{
 "cells": [
  {
   "cell_type": "code",
   "execution_count": 1,
   "id": "a9912a75-0ed5-4f0d-a057-184050d74906",
   "metadata": {},
   "outputs": [],
   "source": [
    "import numpy as np\n",
    "import matplotlib.pyplot as plt\n",
    "import pandas as pd\n",
    "\n",
    "from nltk.corpus import stopwords\n",
    "from nltk.tokenize import word_tokenize\n",
    "\n",
    "# Download necessary NLTK resources (only once)\n",
    "# nltk.download('punkt')\n",
    "# nltk.download('stopwords')\n",
    "\n",
    "import json\n",
    "import wordcloud"
   ]
  },
  {
   "cell_type": "markdown",
   "id": "e3042110-332c-432d-a9a5-312f225919e0",
   "metadata": {},
   "source": [
    "## Getting from the jsonl file"
   ]
  },
  {
   "cell_type": "code",
   "execution_count": 4,
   "id": "bf6b68c1-0b41-4165-b6fb-5ddf3798fdbc",
   "metadata": {},
   "outputs": [
    {
     "name": "stderr",
     "output_type": "stream",
     "text": [
      "<>:2: SyntaxWarning: invalid escape sequence '\\T'\n",
      "<>:2: SyntaxWarning: invalid escape sequence '\\T'\n",
      "C:\\Users\\Asutosh\\AppData\\Local\\Temp\\ipykernel_21236\\852818608.py:2: SyntaxWarning: invalid escape sequence '\\T'\n",
      "  target_src = \"D:\\Tech\\MachineLearning\\SelfStudy\\Libraries\\src\\clickbait17-test-170720\\clickbait17-test-170720\\instances.jsonl\"\n"
     ]
    }
   ],
   "source": [
    "# src = \"D:\\Tech\\MachineLearning\\SelfStudy\\Libraries\\src\\clickbait17-train-170331\\instances.jsonl\"\n",
    "target_src = \"D:\\Tech\\MachineLearning\\SelfStudy\\Libraries\\src\\clickbait17-test-170720\\clickbait17-test-170720\\instances.jsonl\"\n",
    "data = []\n",
    "with open(target_src,encoding=\"utf8\") as f:\n",
    "    cnt = 0\n",
    "    for line in f:\n",
    "        data.append(json.loads(line))\n"
   ]
  },
  {
   "cell_type": "code",
   "execution_count": 6,
   "id": "edebe665-ef84-4191-a1c0-3e5ee60771f0",
   "metadata": {},
   "outputs": [
    {
     "name": "stderr",
     "output_type": "stream",
     "text": [
      "<>:1: SyntaxWarning: invalid escape sequence '\\T'\n",
      "<>:1: SyntaxWarning: invalid escape sequence '\\T'\n",
      "C:\\Users\\Asutosh\\AppData\\Local\\Temp\\ipykernel_21236\\4259141571.py:1: SyntaxWarning: invalid escape sequence '\\T'\n",
      "  src = \"D:\\Tech\\MachineLearning\\SelfStudy\\Libraries\\src\\clickbait17-test-170720\\clickbait17-test-170720\\truth.jsonl\"\n",
      "C:\\Users\\Asutosh\\AppData\\Local\\Temp\\ipykernel_21236\\4259141571.py:1: SyntaxWarning: invalid escape sequence '\\T'\n",
      "  src = \"D:\\Tech\\MachineLearning\\SelfStudy\\Libraries\\src\\clickbait17-test-170720\\clickbait17-test-170720\\truth.jsonl\"\n"
     ]
    },
    {
     "ename": "OSError",
     "evalue": "[Errno 22] Invalid argument: 'D:\\\\Tech\\\\MachineLearning\\\\SelfStudy\\\\Libraries\\\\src\\\\clickbait17-test-170720\\\\clickbait17-test-170720\\truth.jsonl'",
     "output_type": "error",
     "traceback": [
      "\u001b[1;31m---------------------------------------------------------------------------\u001b[0m",
      "\u001b[1;31mOSError\u001b[0m                                   Traceback (most recent call last)",
      "Cell \u001b[1;32mIn[6], line 3\u001b[0m\n\u001b[0;32m      1\u001b[0m src \u001b[38;5;241m=\u001b[39m \u001b[38;5;124m\"\u001b[39m\u001b[38;5;124mD:\u001b[39m\u001b[38;5;124m\\\u001b[39m\u001b[38;5;124mTech\u001b[39m\u001b[38;5;124m\\\u001b[39m\u001b[38;5;124mMachineLearning\u001b[39m\u001b[38;5;124m\\\u001b[39m\u001b[38;5;124mSelfStudy\u001b[39m\u001b[38;5;124m\\\u001b[39m\u001b[38;5;124mLibraries\u001b[39m\u001b[38;5;124m\\\u001b[39m\u001b[38;5;124msrc\u001b[39m\u001b[38;5;124m\\\u001b[39m\u001b[38;5;124mclickbait17-test-170720\u001b[39m\u001b[38;5;124m\\\u001b[39m\u001b[38;5;124mclickbait17-test-170720\u001b[39m\u001b[38;5;130;01m\\t\u001b[39;00m\u001b[38;5;124mruth.jsonl\u001b[39m\u001b[38;5;124m\"\u001b[39m\n\u001b[0;32m      2\u001b[0m data \u001b[38;5;241m=\u001b[39m []\n\u001b[1;32m----> 3\u001b[0m \u001b[38;5;28;01mwith\u001b[39;00m \u001b[38;5;28;43mopen\u001b[39;49m\u001b[43m(\u001b[49m\u001b[43msrc\u001b[49m\u001b[43m,\u001b[49m\u001b[43mencoding\u001b[49m\u001b[38;5;241;43m=\u001b[39;49m\u001b[38;5;124;43m\"\u001b[39;49m\u001b[38;5;124;43mutf8\u001b[39;49m\u001b[38;5;124;43m\"\u001b[39;49m\u001b[43m)\u001b[49m \u001b[38;5;28;01mas\u001b[39;00m f:\n\u001b[0;32m      4\u001b[0m     cnt \u001b[38;5;241m=\u001b[39m \u001b[38;5;241m0\u001b[39m\n\u001b[0;32m      5\u001b[0m     \u001b[38;5;28;01mfor\u001b[39;00m line \u001b[38;5;129;01min\u001b[39;00m f:\n",
      "File \u001b[1;32m~\\AppData\\Local\\Programs\\Python\\Python313\\Lib\\site-packages\\IPython\\core\\interactiveshell.py:324\u001b[0m, in \u001b[0;36m_modified_open\u001b[1;34m(file, *args, **kwargs)\u001b[0m\n\u001b[0;32m    317\u001b[0m \u001b[38;5;28;01mif\u001b[39;00m file \u001b[38;5;129;01min\u001b[39;00m {\u001b[38;5;241m0\u001b[39m, \u001b[38;5;241m1\u001b[39m, \u001b[38;5;241m2\u001b[39m}:\n\u001b[0;32m    318\u001b[0m     \u001b[38;5;28;01mraise\u001b[39;00m \u001b[38;5;167;01mValueError\u001b[39;00m(\n\u001b[0;32m    319\u001b[0m         \u001b[38;5;124mf\u001b[39m\u001b[38;5;124m\"\u001b[39m\u001b[38;5;124mIPython won\u001b[39m\u001b[38;5;124m'\u001b[39m\u001b[38;5;124mt let you open fd=\u001b[39m\u001b[38;5;132;01m{\u001b[39;00mfile\u001b[38;5;132;01m}\u001b[39;00m\u001b[38;5;124m by default \u001b[39m\u001b[38;5;124m\"\u001b[39m\n\u001b[0;32m    320\u001b[0m         \u001b[38;5;124m\"\u001b[39m\u001b[38;5;124mas it is likely to crash IPython. If you know what you are doing, \u001b[39m\u001b[38;5;124m\"\u001b[39m\n\u001b[0;32m    321\u001b[0m         \u001b[38;5;124m\"\u001b[39m\u001b[38;5;124myou can use builtins\u001b[39m\u001b[38;5;124m'\u001b[39m\u001b[38;5;124m open.\u001b[39m\u001b[38;5;124m\"\u001b[39m\n\u001b[0;32m    322\u001b[0m     )\n\u001b[1;32m--> 324\u001b[0m \u001b[38;5;28;01mreturn\u001b[39;00m \u001b[43mio_open\u001b[49m\u001b[43m(\u001b[49m\u001b[43mfile\u001b[49m\u001b[43m,\u001b[49m\u001b[43m \u001b[49m\u001b[38;5;241;43m*\u001b[39;49m\u001b[43margs\u001b[49m\u001b[43m,\u001b[49m\u001b[43m \u001b[49m\u001b[38;5;241;43m*\u001b[39;49m\u001b[38;5;241;43m*\u001b[39;49m\u001b[43mkwargs\u001b[49m\u001b[43m)\u001b[49m\n",
      "\u001b[1;31mOSError\u001b[0m: [Errno 22] Invalid argument: 'D:\\\\Tech\\\\MachineLearning\\\\SelfStudy\\\\Libraries\\\\src\\\\clickbait17-test-170720\\\\clickbait17-test-170720\\truth.jsonl'"
     ]
    }
   ],
   "source": [
    "src = \"D:\\Tech\\MachineLearning\\SelfStudy\\Libraries\\src\\clickbait17-test-170720\\clickbait17-test-170720\\truth.jsonl\"\n",
    "data = []\n",
    "with open(src,encoding=\"utf8\") as f:\n",
    "    cnt = 0\n",
    "    for line in f:\n",
    "        data.append(json.loads(line))"
   ]
  },
  {
   "cell_type": "code",
   "execution_count": null,
   "id": "0d60162c-3fb3-42b3-a966-4c0bce602637",
   "metadata": {},
   "outputs": [],
   "source": [
    "df = pd.DataFrame(data)\n",
    "df = df.drop(['postTimestamp','postMedia'],axis=1)"
   ]
  },
  {
   "cell_type": "code",
   "execution_count": null,
   "id": "2662072b-896c-4789-ba5b-d2ca16ba664a",
   "metadata": {},
   "outputs": [],
   "source": [
    "targetTitle = df['targetTitle']\n",
    "targetId = df['id']\n",
    "corpus = list(targetTitle)"
   ]
  },
  {
   "cell_type": "code",
   "execution_count": null,
   "id": "8e0c98a7-b0b7-4aa7-92aa-de9d546f2d3f",
   "metadata": {},
   "outputs": [],
   "source": [
    "# print(corpus)"
   ]
  },
  {
   "cell_type": "code",
   "execution_count": null,
   "id": "91ac711b-1562-40ea-80b3-4f49c6082e2f",
   "metadata": {},
   "outputs": [],
   "source": [
    "df.head()"
   ]
  },
  {
   "cell_type": "markdown",
   "id": "bcde0b8e-751b-4442-b27b-3793b397478b",
   "metadata": {},
   "source": [
    "## Removing any special chars or punctuations"
   ]
  },
  {
   "cell_type": "code",
   "execution_count": null,
   "id": "025e5e10-64d4-4318-8661-78bdcc8eb41e",
   "metadata": {},
   "outputs": [],
   "source": [
    "def tokenize_and_remove_stopwords(text):\n",
    "    tokens = word_tokenize(text)\n",
    "    stop_words = set(stopwords.words('english'))\n",
    "    filtered_tokens = [token for token in tokens if token.lower() not in stop_words]   \n",
    "    return filtered_tokens\n",
    "\n",
    "documents = []\n",
    "for ini_string in corpus:\n",
    "    getVals = list([val if val.isalnum() else \" \" for val in ini_string ])\n",
    "    result = \"\".join(getVals)\n",
    "    documents.append(result)\n",
    "\n",
    "vocab = list()\n",
    "for sentence in documents:\n",
    "    # vocab.extend(nltk.tokenize.word_tokenize(sentence))\n",
    "    vocab.extend(tokenize_and_remove_stopwords(sentence))"
   ]
  },
  {
   "cell_type": "code",
   "execution_count": null,
   "id": "590d617b-3567-4337-b5a1-d7c6b4de1fe0",
   "metadata": {},
   "outputs": [],
   "source": [
    "# documents"
   ]
  },
  {
   "cell_type": "code",
   "execution_count": null,
   "id": "f03b1305-6e5b-4201-aa72-2de2e66f7152",
   "metadata": {},
   "outputs": [],
   "source": [
    "# Convert the list to a pandas DataFrame\n",
    "words = pd.DataFrame(vocab, columns=['Words'])\n",
    "\n",
    "# Group by 'Values' and count occurrences\n",
    "value_counts = words.groupby('Words').size().reset_index(name='Count')\n",
    "\n",
    "# Sort the counts in descending order\n",
    "value_counts = value_counts.sort_values(by='Count', ascending=False)\n",
    "\n",
    "# Display the table of counts\n",
    "print(value_counts)"
   ]
  },
  {
   "cell_type": "code",
   "execution_count": null,
   "id": "54d6a104-b39b-4d68-b8a6-527383fbd252",
   "metadata": {},
   "outputs": [],
   "source": [
    "print(len(vocab))\n",
    "print(len(set(vocab)))"
   ]
  },
  {
   "cell_type": "markdown",
   "id": "01960af9-fa1b-4b1b-b206-fecd2686940a",
   "metadata": {},
   "source": [
    "## Visualising data using wordcloud"
   ]
  },
  {
   "cell_type": "code",
   "execution_count": null,
   "id": "d9e8e484-e051-4df0-9b76-8b8dd14b3610",
   "metadata": {},
   "outputs": [],
   "source": [
    "# Start with one review:\n",
    "from wordcloud import WordCloud\n",
    "text = \" \".join(vocab)\n",
    "\n",
    "# Create and generate a word cloud image:\n",
    "wordcloud = WordCloud().generate(text)\n",
    "\n",
    "# Display the generated image:\n",
    "plt.imshow(wordcloud, interpolation='bilinear')\n",
    "plt.axis(\"off\")\n",
    "plt.show()"
   ]
  },
  {
   "cell_type": "code",
   "execution_count": 9,
   "id": "381c5ac9-ca8d-4d29-871c-ea530296022b",
   "metadata": {},
   "outputs": [
    {
     "data": {
      "image/png": "[encoded data removed]",
      "text/plain": [
       "<Figure size 640x480 with 1 Axes>"
      ]
     },
     "metadata": {},
     "output_type": "display_data"
    }
   ],
   "source": [
    "# Example data\n",
    "data = [1, 2, 2, 3, 3, 3, 4, 4, 4, 4, 5, 5, 5, 5, 5]\n",
    "\n",
    "# Create the histogram\n",
    "plt.hist(data, bins=100, color='blue', edgecolor='black', alpha=0.7)\n",
    "\n",
    "# Add titles and labels\n",
    "plt.title('Frequency Distribution')\n",
    "plt.xlabel('Value')\n",
    "plt.ylabel('Frequency')\n",
    "\n",
    "# Show the plot\n",
    "plt.show()"
   ]
  },
  {
   "cell_type": "code",
   "execution_count": null,
   "id": "4e98ee5d-b536-47e1-9548-197e8d12ba3f",
   "metadata": {},
   "outputs": [],
   "source": []
  },
  {
   "cell_type": "code",
   "execution_count": null,
   "id": "5c689120-ee4f-45a1-99ec-20b59ab8dd4d",
   "metadata": {},
   "outputs": [],
   "source": []
  }
 ],
 "metadata": {
  "kernelspec": {
   "display_name": "Python 3 (ipykernel)",
   "language": "python",
   "name": "python3"
  },
  "language_info": {
   "codemirror_mode": {
    "name": "ipython",
    "version": 3
   },
   "file_extension": ".py",
   "mimetype": "text/x-python",
   "name": "python",
   "nbconvert_exporter": "python",
   "pygments_lexer": "ipython3",
   "version": "3.13.1"
  }
 },
 "nbformat": 4,
 "nbformat_minor": 5
}
