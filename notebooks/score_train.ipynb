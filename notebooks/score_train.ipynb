{
  "nbformat": 4,
  "nbformat_minor": 0,
  "metadata": {
    "colab": {
      "provenance": [],
      "gpuType": "T4"
    },
    "kernelspec": {
      "name": "python3",
      "display_name": "Python 3"
    },
    "language_info": {
      "name": "python"
    },
    "accelerator": "GPU"
  },
  "cells": [
    {
      "cell_type": "markdown",
      "source": [
        "# Imports\n"
      ],
      "metadata": {
        "id": "Oncxefq8Aa-Q"
      }
    },
    {
      "cell_type": "code",
      "execution_count": 1,
      "metadata": {
        "colab": {
          "base_uri": "https://localhost:8080/"
        },
        "id": "9qB_AHBGk-sW",
        "outputId": "8b488f71-5f73-4959-c181-772dac90810f"
      },
      "outputs": [
        {
          "output_type": "stream",
          "name": "stdout",
          "text": [
            "Sat Jan 18 16:14:27 2025       \n",
            "+---------------------------------------------------------------------------------------+\n",
            "| NVIDIA-SMI 535.104.05             Driver Version: 535.104.05   CUDA Version: 12.2     |\n",
            "|-----------------------------------------+----------------------+----------------------+\n",
            "| GPU  Name                 Persistence-M | Bus-Id        Disp.A | Volatile Uncorr. ECC |\n",
            "| Fan  Temp   Perf          Pwr:Usage/Cap |         Memory-Usage | GPU-Util  Compute M. |\n",
            "|                                         |                      |               MIG M. |\n",
            "|=========================================+======================+======================|\n",
            "|   0  Tesla T4                       Off | 00000000:00:04.0 Off |                    0 |\n",
            "| N/A   65C    P8              11W /  70W |      0MiB / 15360MiB |      0%      Default |\n",
            "|                                         |                      |                  N/A |\n",
            "+-----------------------------------------+----------------------+----------------------+\n",
            "                                                                                         \n",
            "+---------------------------------------------------------------------------------------+\n",
            "| Processes:                                                                            |\n",
            "|  GPU   GI   CI        PID   Type   Process name                            GPU Memory |\n",
            "|        ID   ID                                                             Usage      |\n",
            "|=======================================================================================|\n",
            "|  No running processes found                                                           |\n",
            "+---------------------------------------------------------------------------------------+\n"
          ]
        }
      ],
      "source": [
        "!nvidia-smi"
      ]
    },
    {
      "cell_type": "code",
      "execution_count": 2,
      "metadata": {
        "id": "-LFo-FdLKBaH"
      },
      "outputs": [],
      "source": [
        "\n",
        "import numpy as np\n",
        "import matplotlib.pyplot as plt\n",
        "import pandas as pd\n",
        "import json\n",
        "import wordcloud\n",
        "import nltk\n",
        "from nltk.corpus import stopwords\n",
        "from nltk.tokenize import word_tokenize\n",
        "import re\n",
        "\n",
        "import tensorflow as tf\n",
        "from sklearn.model_selection import train_test_split\n",
        "from sklearn.linear_model import SGDRegressor\n",
        "from sklearn.metrics import mean_squared_error, mean_absolute_error, accuracy_score\n",
        "from sklearn.preprocessing import StandardScaler\n",
        "from sklearn.ensemble import GradientBoostingRegressor\n",
        "from tensorflow.keras import layers, models\n",
        "import matplotlib.pyplot as plt\n",
        "\n",
        "\n",
        "import torch\n",
        "from transformers import AutoModel, AutoTokenizer\n",
        "from tqdm import tqdm\n",
        "\n",
        "\n"
      ]
    },
    {
      "cell_type": "code",
      "execution_count": 3,
      "metadata": {
        "colab": {
          "base_uri": "https://localhost:8080/"
        },
        "id": "RjpIT0i9wZyb",
        "outputId": "9eed5ab9-0e02-471e-8841-ccfd042ebd8f"
      },
      "outputs": [
        {
          "output_type": "stream",
          "name": "stderr",
          "text": [
            "[nltk_data] Downloading package punkt to /root/nltk_data...\n",
            "[nltk_data]   Unzipping tokenizers/punkt.zip.\n",
            "[nltk_data] Downloading package stopwords to /root/nltk_data...\n",
            "[nltk_data]   Unzipping corpora/stopwords.zip.\n",
            "[nltk_data] Downloading package punkt_tab to /root/nltk_data...\n",
            "[nltk_data]   Unzipping tokenizers/punkt_tab.zip.\n"
          ]
        },
        {
          "output_type": "execute_result",
          "data": {
            "text/plain": [
              "True"
            ]
          },
          "metadata": {},
          "execution_count": 3
        }
      ],
      "source": [
        "# # COMMENT AFTER USE TO AVOID HASSLE ; )\n",
        "nltk.download('punkt')\n",
        "nltk.download('stopwords')\n",
        "nltk.download('punkt_tab')"
      ]
    },
    {
      "cell_type": "markdown",
      "source": [
        "# Data Loading"
      ],
      "metadata": {
        "id": "3Q_r-g-FAfB9"
      }
    },
    {
      "cell_type": "code",
      "source": [
        "truth_src = \"/content/b3/truth.jsonl\"\n",
        "truth_data = []\n",
        "with open(truth_src,encoding=\"utf8\") as f:\n",
        "    cnt = 0\n",
        "    for line in f:\n",
        "        truth_data.append(json.loads(line))"
      ],
      "metadata": {
        "id": "IkoG8C9AAKnZ"
      },
      "execution_count": 113,
      "outputs": []
    },
    {
      "cell_type": "code",
      "source": [
        "target_src = \"/content/b3/instances.jsonl\"\n",
        "target_data = []\n",
        "with open(target_src,encoding=\"utf8\") as f:\n",
        "    cnt = 0\n",
        "    for line in f:\n",
        "        target_data.append(json.loads(line))"
      ],
      "metadata": {
        "id": "GfyULGGrAMlj"
      },
      "execution_count": 114,
      "outputs": []
    },
    {
      "cell_type": "code",
      "source": [
        "truth_data_df = pd.DataFrame(truth_data)\n",
        "target_data_df = pd.DataFrame(target_data)"
      ],
      "metadata": {
        "id": "y4oUgI3iAOUR"
      },
      "execution_count": 115,
      "outputs": []
    },
    {
      "cell_type": "code",
      "execution_count": 116,
      "metadata": {
        "id": "39o7O3vVWDnD"
      },
      "outputs": [],
      "source": [
        "final_data= pd.DataFrame()"
      ]
    },
    {
      "cell_type": "code",
      "execution_count": 117,
      "metadata": {
        "id": "v6DAjYEOW5FE"
      },
      "outputs": [],
      "source": [
        "final_data['target_id'] = target_data_df['id']\n",
        "final_data['truth_id'] = truth_data_df['id']\n",
        "final_data['target_title'] = target_data_df['targetTitle']\n",
        "final_data['target_desc'] = target_data_df['targetDescription']\n",
        "final_data['target_keywords'] = target_data_df['targetKeywords']\n",
        "final_data['truth_mean'] = truth_data_df['truthMean']\n",
        "final_data['truth_mode'] = truth_data_df['truthMode']\n",
        "final_data['truth_median'] = truth_data_df['truthMedian']\n",
        "final_data['truth_class'] = truth_data_df['truthClass']"
      ]
    },
    {
      "cell_type": "markdown",
      "source": [
        "## Adding more data (due to data being split into multiple files)"
      ],
      "metadata": {
        "id": "ZoJyjM2DAlaf"
      }
    },
    {
      "cell_type": "code",
      "source": [
        "# MORE DATA\n",
        "truth_src = \"/content/b2/truth.jsonl\"\n",
        "more_truth_data = []\n",
        "with open(truth_src,encoding=\"utf8\") as f:\n",
        "    cnt = 0\n",
        "    for line in f:\n",
        "        more_truth_data.append(json.loads(line))\n"
      ],
      "metadata": {
        "id": "Symn2wgPAkvE"
      },
      "execution_count": 118,
      "outputs": []
    },
    {
      "cell_type": "code",
      "source": [
        "target_src = \"/content/b2/instances.jsonl\"\n",
        "more_target_data = []\n",
        "with open(target_src,encoding=\"utf8\") as f:\n",
        "    cnt = 0\n",
        "    for line in f:\n",
        "        more_target_data.append(json.loads(line))"
      ],
      "metadata": {
        "id": "2lL5bpLeAu7N"
      },
      "execution_count": 119,
      "outputs": []
    },
    {
      "cell_type": "code",
      "source": [
        "more_truth_data_df = pd.DataFrame(more_truth_data)\n",
        "more_target_data_df = pd.DataFrame(more_target_data)"
      ],
      "metadata": {
        "id": "yA-oRsa5A0wh"
      },
      "execution_count": 120,
      "outputs": []
    },
    {
      "cell_type": "code",
      "source": [
        "more_final_data= pd.DataFrame()\n",
        "\n",
        "more_final_data['target_id'] = more_target_data_df['id']\n",
        "more_final_data['truth_id'] = more_truth_data_df['id']\n",
        "more_final_data['target_title'] = more_target_data_df['targetTitle']\n",
        "more_final_data['target_desc'] = more_target_data_df['targetDescription']\n",
        "more_final_data['target_keywords'] = more_target_data_df['targetKeywords']\n",
        "more_final_data['truth_mean'] = more_truth_data_df['truthMean']\n",
        "more_final_data['truth_mode'] = more_truth_data_df['truthMode']\n",
        "more_final_data['truth_median'] = more_truth_data_df['truthMedian']\n",
        "more_final_data['truth_class'] = more_truth_data_df['truthClass']"
      ],
      "metadata": {
        "id": "XLgc1CmfA44R"
      },
      "execution_count": 121,
      "outputs": []
    },
    {
      "cell_type": "code",
      "source": [
        "more_final_data.info()"
      ],
      "metadata": {
        "colab": {
          "base_uri": "https://localhost:8080/"
        },
        "id": "z9-NLaCWSoKj",
        "outputId": "99555d4d-8ad0-4900-9229-dd52fe12ded9"
      },
      "execution_count": 122,
      "outputs": [
        {
          "output_type": "stream",
          "name": "stdout",
          "text": [
            "<class 'pandas.core.frame.DataFrame'>\n",
            "RangeIndex: 19538 entries, 0 to 19537\n",
            "Data columns (total 9 columns):\n",
            " #   Column           Non-Null Count  Dtype  \n",
            "---  ------           --------------  -----  \n",
            " 0   target_id        19538 non-null  object \n",
            " 1   truth_id         19538 non-null  object \n",
            " 2   target_title     19538 non-null  object \n",
            " 3   target_desc      19538 non-null  object \n",
            " 4   target_keywords  19538 non-null  object \n",
            " 5   truth_mean       19538 non-null  float64\n",
            " 6   truth_mode       19538 non-null  float64\n",
            " 7   truth_median     19538 non-null  float64\n",
            " 8   truth_class      19538 non-null  object \n",
            "dtypes: float64(3), object(6)\n",
            "memory usage: 1.3+ MB\n"
          ]
        }
      ]
    },
    {
      "cell_type": "code",
      "source": [
        "# Combined date frame\n",
        "final_data = pd.concat([final_data,more_final_data],ignore_index=True)"
      ],
      "metadata": {
        "id": "j9I2W8b3A9_6"
      },
      "execution_count": 123,
      "outputs": []
    },
    {
      "cell_type": "markdown",
      "source": [
        "## EDA"
      ],
      "metadata": {
        "id": "xkLYW4RmBMFc"
      }
    },
    {
      "cell_type": "code",
      "source": [
        "final_data.info()\n",
        "final_data.describe()"
      ],
      "metadata": {
        "colab": {
          "base_uri": "https://localhost:8080/",
          "height": 578
        },
        "id": "3MpY3RL0BGyv",
        "outputId": "5c6a9664-d363-4035-a6f8-db44b7130adc"
      },
      "execution_count": 124,
      "outputs": [
        {
          "output_type": "stream",
          "name": "stdout",
          "text": [
            "<class 'pandas.core.frame.DataFrame'>\n",
            "RangeIndex: 38517 entries, 0 to 38516\n",
            "Data columns (total 9 columns):\n",
            " #   Column           Non-Null Count  Dtype  \n",
            "---  ------           --------------  -----  \n",
            " 0   target_id        38517 non-null  object \n",
            " 1   truth_id         38517 non-null  object \n",
            " 2   target_title     38517 non-null  object \n",
            " 3   target_desc      38517 non-null  object \n",
            " 4   target_keywords  38517 non-null  object \n",
            " 5   truth_mean       38517 non-null  float64\n",
            " 6   truth_mode       38517 non-null  float64\n",
            " 7   truth_median     38517 non-null  float64\n",
            " 8   truth_class      38517 non-null  object \n",
            "dtypes: float64(3), object(6)\n",
            "memory usage: 2.6+ MB\n"
          ]
        },
        {
          "output_type": "execute_result",
          "data": {
            "text/plain": [
              "         truth_mean    truth_mode  truth_median\n",
              "count  38517.000000  38517.000000  38517.000000\n",
              "mean       0.308799      0.263044      0.269812\n",
              "std        0.262504      0.360209      0.336165\n",
              "min        0.000000      0.000000      0.000000\n",
              "25%        0.066667      0.000000      0.000000\n",
              "50%        0.266667      0.000000      0.000000\n",
              "75%        0.466667      0.333333      0.333333\n",
              "max        1.000000      1.000000      1.000000"
            ],
            "text/html": [
              "\n",
              "  <div id=\"df-cd2ce38d-ce9f-4e50-a40d-0a4d76d9012b\" class=\"colab-df-container\">\n",
              "    <div>\n",
              "<style scoped>\n",
              "    .dataframe tbody tr th:only-of-type {\n",
              "        vertical-align: middle;\n",
              "    }\n",
              "\n",
              "    .dataframe tbody tr th {\n",
              "        vertical-align: top;\n",
              "    }\n",
              "\n",
              "    .dataframe thead th {\n",
              "        text-align: right;\n",
              "    }\n",
              "</style>\n",
              "<table border=\"1\" class=\"dataframe\">\n",
              "  <thead>\n",
              "    <tr style=\"text-align: right;\">\n",
              "      <th></th>\n",
              "      <th>truth_mean</th>\n",
              "      <th>truth_mode</th>\n",
              "      <th>truth_median</th>\n",
              "    </tr>\n",
              "  </thead>\n",
              "  <tbody>\n",
              "    <tr>\n",
              "      <th>count</th>\n",
              "      <td>38517.000000</td>\n",
              "      <td>38517.000000</td>\n",
              "      <td>38517.000000</td>\n",
              "    </tr>\n",
              "    <tr>\n",
              "      <th>mean</th>\n",
              "      <td>0.308799</td>\n",
              "      <td>0.263044</td>\n",
              "      <td>0.269812</td>\n",
              "    </tr>\n",
              "    <tr>\n",
              "      <th>std</th>\n",
              "      <td>0.262504</td>\n",
              "      <td>0.360209</td>\n",
              "      <td>0.336165</td>\n",
              "    </tr>\n",
              "    <tr>\n",
              "      <th>min</th>\n",
              "      <td>0.000000</td>\n",
              "      <td>0.000000</td>\n",
              "      <td>0.000000</td>\n",
              "    </tr>\n",
              "    <tr>\n",
              "      <th>25%</th>\n",
              "      <td>0.066667</td>\n",
              "      <td>0.000000</td>\n",
              "      <td>0.000000</td>\n",
              "    </tr>\n",
              "    <tr>\n",
              "      <th>50%</th>\n",
              "      <td>0.266667</td>\n",
              "      <td>0.000000</td>\n",
              "      <td>0.000000</td>\n",
              "    </tr>\n",
              "    <tr>\n",
              "      <th>75%</th>\n",
              "      <td>0.466667</td>\n",
              "      <td>0.333333</td>\n",
              "      <td>0.333333</td>\n",
              "    </tr>\n",
              "    <tr>\n",
              "      <th>max</th>\n",
              "      <td>1.000000</td>\n",
              "      <td>1.000000</td>\n",
              "      <td>1.000000</td>\n",
              "    </tr>\n",
              "  </tbody>\n",
              "</table>\n",
              "</div>\n",
              "    <div class=\"colab-df-buttons\">\n",
              "\n",
              "  <div class=\"colab-df-container\">\n",
              "    <button class=\"colab-df-convert\" onclick=\"convertToInteractive('df-cd2ce38d-ce9f-4e50-a40d-0a4d76d9012b')\"\n",
              "            title=\"Convert this dataframe to an interactive table.\"\n",
              "            style=\"display:none;\">\n",
              "\n",
              "  <svg xmlns=\"http://www.w3.org/2000/svg\" height=\"24px\" viewBox=\"0 -960 960 960\">\n",
              "    <path d=\"M120-120v-720h720v720H120Zm60-500h600v-160H180v160Zm220 220h160v-160H400v160Zm0 220h160v-160H400v160ZM180-400h160v-160H180v160Zm440 0h160v-160H620v160ZM180-180h160v-160H180v160Zm440 0h160v-160H620v160Z\"/>\n",
              "  </svg>\n",
              "    </button>\n",
              "\n",
              "  <style>\n",
              "    .colab-df-container {\n",
              "      display:flex;\n",
              "      gap: 12px;\n",
              "    }\n",
              "\n",
              "    .colab-df-convert {\n",
              "      background-color: #E8F0FE;\n",
              "      border: none;\n",
              "      border-radius: 50%;\n",
              "      cursor: pointer;\n",
              "      display: none;\n",
              "      fill: #1967D2;\n",
              "      height: 32px;\n",
              "      padding: 0 0 0 0;\n",
              "      width: 32px;\n",
              "    }\n",
              "\n",
              "    .colab-df-convert:hover {\n",
              "      background-color: #E2EBFA;\n",
              "      box-shadow: 0px 1px 2px rgba(60, 64, 67, 0.3), 0px 1px 3px 1px rgba(60, 64, 67, 0.15);\n",
              "      fill: #174EA6;\n",
              "    }\n",
              "\n",
              "    .colab-df-buttons div {\n",
              "      margin-bottom: 4px;\n",
              "    }\n",
              "\n",
              "    [theme=dark] .colab-df-convert {\n",
              "      background-color: #3B4455;\n",
              "      fill: #D2E3FC;\n",
              "    }\n",
              "\n",
              "    [theme=dark] .colab-df-convert:hover {\n",
              "      background-color: #434B5C;\n",
              "      box-shadow: 0px 1px 3px 1px rgba(0, 0, 0, 0.15);\n",
              "      filter: drop-shadow(0px 1px 2px rgba(0, 0, 0, 0.3));\n",
              "      fill: #FFFFFF;\n",
              "    }\n",
              "  </style>\n",
              "\n",
              "    <script>\n",
              "      const buttonEl =\n",
              "        document.querySelector('#df-cd2ce38d-ce9f-4e50-a40d-0a4d76d9012b button.colab-df-convert');\n",
              "      buttonEl.style.display =\n",
              "        google.colab.kernel.accessAllowed ? 'block' : 'none';\n",
              "\n",
              "      async function convertToInteractive(key) {\n",
              "        const element = document.querySelector('#df-cd2ce38d-ce9f-4e50-a40d-0a4d76d9012b');\n",
              "        const dataTable =\n",
              "          await google.colab.kernel.invokeFunction('convertToInteractive',\n",
              "                                                    [key], {});\n",
              "        if (!dataTable) return;\n",
              "\n",
              "        const docLinkHtml = 'Like what you see? Visit the ' +\n",
              "          '<a target=\"_blank\" href=https://colab.research.google.com/notebooks/data_table.ipynb>data table notebook</a>'\n",
              "          + ' to learn more about interactive tables.';\n",
              "        element.innerHTML = '';\n",
              "        dataTable['output_type'] = 'display_data';\n",
              "        await google.colab.output.renderOutput(dataTable, element);\n",
              "        const docLink = document.createElement('div');\n",
              "        docLink.innerHTML = docLinkHtml;\n",
              "        element.appendChild(docLink);\n",
              "      }\n",
              "    </script>\n",
              "  </div>\n",
              "\n",
              "\n",
              "<div id=\"df-5206c6af-666b-4d8a-b8aa-06d780652c1c\">\n",
              "  <button class=\"colab-df-quickchart\" onclick=\"quickchart('df-5206c6af-666b-4d8a-b8aa-06d780652c1c')\"\n",
              "            title=\"Suggest charts\"\n",
              "            style=\"display:none;\">\n",
              "\n",
              "<svg xmlns=\"http://www.w3.org/2000/svg\" height=\"24px\"viewBox=\"0 0 24 24\"\n",
              "     width=\"24px\">\n",
              "    <g>\n",
              "        <path d=\"M19 3H5c-1.1 0-2 .9-2 2v14c0 1.1.9 2 2 2h14c1.1 0 2-.9 2-2V5c0-1.1-.9-2-2-2zM9 17H7v-7h2v7zm4 0h-2V7h2v10zm4 0h-2v-4h2v4z\"/>\n",
              "    </g>\n",
              "</svg>\n",
              "  </button>\n",
              "\n",
              "<style>\n",
              "  .colab-df-quickchart {\n",
              "      --bg-color: #E8F0FE;\n",
              "      --fill-color: #1967D2;\n",
              "      --hover-bg-color: #E2EBFA;\n",
              "      --hover-fill-color: #174EA6;\n",
              "      --disabled-fill-color: #AAA;\n",
              "      --disabled-bg-color: #DDD;\n",
              "  }\n",
              "\n",
              "  [theme=dark] .colab-df-quickchart {\n",
              "      --bg-color: #3B4455;\n",
              "      --fill-color: #D2E3FC;\n",
              "      --hover-bg-color: #434B5C;\n",
              "      --hover-fill-color: #FFFFFF;\n",
              "      --disabled-bg-color: #3B4455;\n",
              "      --disabled-fill-color: #666;\n",
              "  }\n",
              "\n",
              "  .colab-df-quickchart {\n",
              "    background-color: var(--bg-color);\n",
              "    border: none;\n",
              "    border-radius: 50%;\n",
              "    cursor: pointer;\n",
              "    display: none;\n",
              "    fill: var(--fill-color);\n",
              "    height: 32px;\n",
              "    padding: 0;\n",
              "    width: 32px;\n",
              "  }\n",
              "\n",
              "  .colab-df-quickchart:hover {\n",
              "    background-color: var(--hover-bg-color);\n",
              "    box-shadow: 0 1px 2px rgba(60, 64, 67, 0.3), 0 1px 3px 1px rgba(60, 64, 67, 0.15);\n",
              "    fill: var(--button-hover-fill-color);\n",
              "  }\n",
              "\n",
              "  .colab-df-quickchart-complete:disabled,\n",
              "  .colab-df-quickchart-complete:disabled:hover {\n",
              "    background-color: var(--disabled-bg-color);\n",
              "    fill: var(--disabled-fill-color);\n",
              "    box-shadow: none;\n",
              "  }\n",
              "\n",
              "  .colab-df-spinner {\n",
              "    border: 2px solid var(--fill-color);\n",
              "    border-color: transparent;\n",
              "    border-bottom-color: var(--fill-color);\n",
              "    animation:\n",
              "      spin 1s steps(1) infinite;\n",
              "  }\n",
              "\n",
              "  @keyframes spin {\n",
              "    0% {\n",
              "      border-color: transparent;\n",
              "      border-bottom-color: var(--fill-color);\n",
              "      border-left-color: var(--fill-color);\n",
              "    }\n",
              "    20% {\n",
              "      border-color: transparent;\n",
              "      border-left-color: var(--fill-color);\n",
              "      border-top-color: var(--fill-color);\n",
              "    }\n",
              "    30% {\n",
              "      border-color: transparent;\n",
              "      border-left-color: var(--fill-color);\n",
              "      border-top-color: var(--fill-color);\n",
              "      border-right-color: var(--fill-color);\n",
              "    }\n",
              "    40% {\n",
              "      border-color: transparent;\n",
              "      border-right-color: var(--fill-color);\n",
              "      border-top-color: var(--fill-color);\n",
              "    }\n",
              "    60% {\n",
              "      border-color: transparent;\n",
              "      border-right-color: var(--fill-color);\n",
              "    }\n",
              "    80% {\n",
              "      border-color: transparent;\n",
              "      border-right-color: var(--fill-color);\n",
              "      border-bottom-color: var(--fill-color);\n",
              "    }\n",
              "    90% {\n",
              "      border-color: transparent;\n",
              "      border-bottom-color: var(--fill-color);\n",
              "    }\n",
              "  }\n",
              "</style>\n",
              "\n",
              "  <script>\n",
              "    async function quickchart(key) {\n",
              "      const quickchartButtonEl =\n",
              "        document.querySelector('#' + key + ' button');\n",
              "      quickchartButtonEl.disabled = true;  // To prevent multiple clicks.\n",
              "      quickchartButtonEl.classList.add('colab-df-spinner');\n",
              "      try {\n",
              "        const charts = await google.colab.kernel.invokeFunction(\n",
              "            'suggestCharts', [key], {});\n",
              "      } catch (error) {\n",
              "        console.error('Error during call to suggestCharts:', error);\n",
              "      }\n",
              "      quickchartButtonEl.classList.remove('colab-df-spinner');\n",
              "      quickchartButtonEl.classList.add('colab-df-quickchart-complete');\n",
              "    }\n",
              "    (() => {\n",
              "      let quickchartButtonEl =\n",
              "        document.querySelector('#df-5206c6af-666b-4d8a-b8aa-06d780652c1c button');\n",
              "      quickchartButtonEl.style.display =\n",
              "        google.colab.kernel.accessAllowed ? 'block' : 'none';\n",
              "    })();\n",
              "  </script>\n",
              "</div>\n",
              "\n",
              "    </div>\n",
              "  </div>\n"
            ],
            "application/vnd.google.colaboratory.intrinsic+json": {
              "type": "dataframe",
              "summary": "{\n  \"name\": \"final_data\",\n  \"rows\": 8,\n  \"fields\": [\n    {\n      \"column\": \"truth_mean\",\n      \"properties\": {\n        \"dtype\": \"number\",\n        \"std\": 13617.696180043306,\n        \"min\": 0.0,\n        \"max\": 38517.0,\n        \"num_unique_values\": 8,\n        \"samples\": [\n          0.3087987122404533,\n          0.26666666664,\n          38517.0\n        ],\n        \"semantic_type\": \"\",\n        \"description\": \"\"\n      }\n    },\n    {\n      \"column\": \"truth_mode\",\n      \"properties\": {\n        \"dtype\": \"number\",\n        \"std\": 13617.717126931526,\n        \"min\": 0.0,\n        \"max\": 38517.0,\n        \"num_unique_values\": 6,\n        \"samples\": [\n          38517.0,\n          0.2630440238376276,\n          1.0\n        ],\n        \"semantic_type\": \"\",\n        \"description\": \"\"\n      }\n    },\n    {\n      \"column\": \"truth_median\",\n      \"properties\": {\n        \"dtype\": \"number\",\n        \"std\": 13617.71799950411,\n        \"min\": 0.0,\n        \"max\": 38517.0,\n        \"num_unique_values\": 6,\n        \"samples\": [\n          38517.0,\n          0.26981159832440477,\n          1.0\n        ],\n        \"semantic_type\": \"\",\n        \"description\": \"\"\n      }\n    }\n  ]\n}"
            }
          },
          "metadata": {},
          "execution_count": 124
        }
      ]
    },
    {
      "cell_type": "code",
      "execution_count": 125,
      "metadata": {
        "id": "NzACvMn2fJC0"
      },
      "outputs": [],
      "source": [
        "final_data['title_word_count'] = final_data['target_title'].apply(lambda x: len(x.split()))"
      ]
    },
    {
      "cell_type": "code",
      "execution_count": 126,
      "metadata": {
        "colab": {
          "base_uri": "https://localhost:8080/",
          "height": 335
        },
        "id": "voQahnoBewzP",
        "outputId": "5899bd2f-50c6-4dc9-a76d-73e324932038"
      },
      "outputs": [
        {
          "output_type": "execute_result",
          "data": {
            "text/plain": [
              "count    38517.000000\n",
              "mean        11.585715\n",
              "std          6.074079\n",
              "min          1.000000\n",
              "25%          9.000000\n",
              "50%         11.000000\n",
              "75%         13.000000\n",
              "max        405.000000\n",
              "Name: title_word_count, dtype: float64"
            ],
            "text/html": [
              "<div>\n",
              "<style scoped>\n",
              "    .dataframe tbody tr th:only-of-type {\n",
              "        vertical-align: middle;\n",
              "    }\n",
              "\n",
              "    .dataframe tbody tr th {\n",
              "        vertical-align: top;\n",
              "    }\n",
              "\n",
              "    .dataframe thead th {\n",
              "        text-align: right;\n",
              "    }\n",
              "</style>\n",
              "<table border=\"1\" class=\"dataframe\">\n",
              "  <thead>\n",
              "    <tr style=\"text-align: right;\">\n",
              "      <th></th>\n",
              "      <th>title_word_count</th>\n",
              "    </tr>\n",
              "  </thead>\n",
              "  <tbody>\n",
              "    <tr>\n",
              "      <th>count</th>\n",
              "      <td>38517.000000</td>\n",
              "    </tr>\n",
              "    <tr>\n",
              "      <th>mean</th>\n",
              "      <td>11.585715</td>\n",
              "    </tr>\n",
              "    <tr>\n",
              "      <th>std</th>\n",
              "      <td>6.074079</td>\n",
              "    </tr>\n",
              "    <tr>\n",
              "      <th>min</th>\n",
              "      <td>1.000000</td>\n",
              "    </tr>\n",
              "    <tr>\n",
              "      <th>25%</th>\n",
              "      <td>9.000000</td>\n",
              "    </tr>\n",
              "    <tr>\n",
              "      <th>50%</th>\n",
              "      <td>11.000000</td>\n",
              "    </tr>\n",
              "    <tr>\n",
              "      <th>75%</th>\n",
              "      <td>13.000000</td>\n",
              "    </tr>\n",
              "    <tr>\n",
              "      <th>max</th>\n",
              "      <td>405.000000</td>\n",
              "    </tr>\n",
              "  </tbody>\n",
              "</table>\n",
              "</div><br><label><b>dtype:</b> float64</label>"
            ]
          },
          "metadata": {},
          "execution_count": 126
        }
      ],
      "source": [
        "final_data['title_word_count'].describe()"
      ]
    },
    {
      "cell_type": "code",
      "source": [
        "plt.hist(final_data['title_word_count'], bins=100, color='blue', edgecolor='black', alpha=0.7)\n",
        "\n",
        "# Add titles and labels\n",
        "plt.title('Frequency Distribution')\n",
        "plt.xlabel('Value')\n",
        "plt.ylabel('Frequency')\n",
        "plt.show()"
      ],
      "metadata": {
        "colab": {
          "base_uri": "https://localhost:8080/",
          "height": 472
        },
        "id": "l-o-1zlABY8z",
        "outputId": "feb921a4-56b5-417a-af95-b067c5ebba71"
      },
      "execution_count": 127,
      "outputs": [
        {
          "output_type": "display_data",
          "data": {
            "text/plain": [
              "<Figure size 640x480 with 1 Axes>"
            ],
            "image/png": "[encoded data removed]"
          },
          "metadata": {}
        }
      ]
    },
    {
      "cell_type": "markdown",
      "source": [
        "# Processing text data"
      ],
      "metadata": {
        "id": "wa7UwDwyBcbg"
      }
    },
    {
      "cell_type": "code",
      "source": [
        "# Preprocessing\n",
        "def preprocess_text(text):\n",
        "    text = text.lower()\n",
        "    text = re.sub(r'[^a-zA-Z0-9\\s.,!?]', '', text)\n",
        "    text = ' '.join(text.split())\n",
        "    return text"
      ],
      "metadata": {
        "id": "BRf1phgyBevg"
      },
      "execution_count": 132,
      "outputs": []
    },
    {
      "cell_type": "markdown",
      "source": [
        "# Tokenizing"
      ],
      "metadata": {
        "id": "b-WZ6mNpCdYO"
      }
    },
    {
      "cell_type": "code",
      "source": [
        "print(\"Loading transformer model...\")\n",
        "tokenizer = AutoTokenizer.from_pretrained(\"caush/Clickbait1\",is_split_into_words=True)\n",
        "model = AutoModel.from_pretrained(\"caush/Clickbait1\",output_hidden_states=True,output_attentions=True)\n",
        "print(\"Transformer model loaded\")\n",
        "\n",
        "def get_embeddings(texts, tokenizer, model, batch_size=16):\n",
        "    device = torch.device('cuda' if torch.cuda.is_available() else 'cpu')\n",
        "    model = model.to(device)\n",
        "    model.eval()\n",
        "    embeddings = []\n",
        "\n",
        "    for i in tqdm(range(0, len(texts), batch_size), desc=\"Generating embeddings\"):\n",
        "        batch_texts = texts[i:i + batch_size]\n",
        "        inputs = tokenizer(batch_texts, padding=True, truncation=True,\n",
        "                         max_length=256,  # Increased max_length\n",
        "                         return_tensors=\"pt\")\n",
        "        inputs = {k: v.to(device) for k, v in inputs.items()}\n",
        "\n",
        "        with torch.no_grad():\n",
        "            outputs = model(**inputs)\n",
        "            # Use attention-weighted mean pooling\n",
        "            attention_mask = inputs['attention_mask']\n",
        "            token_embeddings = outputs.last_hidden_state\n",
        "            input_mask_expanded = attention_mask.unsqueeze(-1).expand(token_embeddings.size()).float()\n",
        "\n",
        "            cls_embedding = token_embeddings[:, 0, :]\n",
        "            mean_embedding = torch.sum(token_embeddings * input_mask_expanded, 1) / torch.clamp(input_mask_expanded.sum(1), min=1e-9)\n",
        "\n",
        "            final_embedding = (cls_embedding + mean_embedding) / 2\n",
        "            embeddings.extend(final_embedding.cpu().numpy())\n",
        "\n",
        "        if device.type == 'cuda':\n",
        "            torch.cuda.empty_cache()\n",
        "\n",
        "    return np.array(embeddings)"
      ],
      "metadata": {
        "colab": {
          "base_uri": "https://localhost:8080/"
        },
        "id": "u2MMBiogCdJ9",
        "outputId": "538a0661-8f6d-4d7d-afed-0efec60c15e5"
      },
      "execution_count": 133,
      "outputs": [
        {
          "output_type": "stream",
          "name": "stdout",
          "text": [
            "Loading transformer model...\n",
            "Transformer model loaded\n"
          ]
        }
      ]
    },
    {
      "cell_type": "markdown",
      "source": [
        "### Train with feature engineering"
      ],
      "metadata": {
        "id": "t94CSvbjP44_"
      }
    },
    {
      "cell_type": "code",
      "source": [
        "# print(\"Preparing text data...\")\n",
        "# final_data['combined_text'] = final_data.apply(\n",
        "#     lambda x: f\"Title: {preprocess_text(x['target_title'])} Keywords: {preprocess_text(x['target_keywords'])} Description: {preprocess_text(x['target_desc'])}\",\n",
        "#     axis=1\n",
        "# )"
      ],
      "metadata": {
        "id": "m54LBx2xC2bD"
      },
      "execution_count": 134,
      "outputs": []
    },
    {
      "cell_type": "markdown",
      "source": [
        "### Train with only titles"
      ],
      "metadata": {
        "id": "wYdUnUKWP7vn"
      }
    },
    {
      "cell_type": "code",
      "source": [
        "# Title only\n",
        "print(\"Preparing text data...\")\n",
        "final_data['combined_text'] = final_data.apply(\n",
        "    lambda x: f\"{preprocess_text(x['target_title'])}\",\n",
        "    axis=1\n",
        ")"
      ],
      "metadata": {
        "colab": {
          "base_uri": "https://localhost:8080/"
        },
        "id": "3CYbI0HXP_Pk",
        "outputId": "fe49f48c-381c-435e-c316-fc83908763ca"
      },
      "execution_count": 135,
      "outputs": [
        {
          "output_type": "stream",
          "name": "stdout",
          "text": [
            "Preparing text data...\n"
          ]
        }
      ]
    },
    {
      "cell_type": "code",
      "source": [
        "print(\"Generating embeddings...\")\n",
        "# We are using combined text which is combination of 3 features.\n",
        "X = get_embeddings(\n",
        "    final_data['combined_text'].tolist(),\n",
        "    tokenizer,\n",
        "    model\n",
        ")\n",
        "# Note: Label of the weighted sum of all the truth value for better understanding and removing bias\n",
        "y = ((2*final_data['truth_mode']+final_data['truth_median']+0.1*final_data['truth_mean'])/3.1).values\n",
        "print(\"embeddings generated\")"
      ],
      "metadata": {
        "colab": {
          "base_uri": "https://localhost:8080/"
        },
        "id": "BFyzWQoWDJmt",
        "outputId": "f6d46431-c566-4da7-ed7d-b892aef18f22"
      },
      "execution_count": 136,
      "outputs": [
        {
          "output_type": "stream",
          "name": "stdout",
          "text": [
            "Generating embeddings...\n"
          ]
        },
        {
          "output_type": "stream",
          "name": "stderr",
          "text": [
            "Generating embeddings: 100%|██████████| 2408/2408 [00:55<00:00, 43.69it/s]\n"
          ]
        },
        {
          "output_type": "stream",
          "name": "stdout",
          "text": [
            "embeddings generated\n"
          ]
        }
      ]
    },
    {
      "cell_type": "code",
      "source": [
        "print(\"Splitting data...\")\n",
        "X_train, X_test, y_train, y_test = train_test_split(\n",
        "    X, y, test_size=0.2, random_state=42, shuffle=True\n",
        ")\n",
        "\n",
        "# 8. Scale features\n",
        "print(\"Scaling features...\")\n",
        "scaler = StandardScaler()\n",
        "X_train_scaled = scaler.fit_transform(X_train)\n",
        "X_test_scaled = scaler.transform(X_test)\n",
        "\n",
        "import pickle\n",
        "with open('new_scaler.pkl','wb') as f:\n",
        "    pickle.dump(scaler, f)\n",
        "\n",
        "\n",
        "print(\"Features are ready to train!\")"
      ],
      "metadata": {
        "colab": {
          "base_uri": "https://localhost:8080/"
        },
        "id": "yFZhNoRsDjoY",
        "outputId": "16e7c6fb-2d2a-4a8d-fff7-bf66744da4bd"
      },
      "execution_count": 200,
      "outputs": [
        {
          "output_type": "stream",
          "name": "stdout",
          "text": [
            "Splitting data...\n",
            "Scaling features...\n",
            "Features are ready to train!\n"
          ]
        }
      ]
    },
    {
      "cell_type": "markdown",
      "source": [
        "# Model Training"
      ],
      "metadata": {
        "id": "jgx0ekg8D3Dd"
      }
    },
    {
      "cell_type": "markdown",
      "source": [
        "##1. Model Architecture"
      ],
      "metadata": {
        "id": "AbVIRq3kEK6P"
      }
    },
    {
      "cell_type": "code",
      "source": [
        "def create_model():\n",
        "    model = models.Sequential([\n",
        "        layers.Dense(384, activation='relu', input_shape=(384,)),\n",
        "        layers.BatchNormalization(),\n",
        "        layers.Dropout(0.15),\n",
        "        layers.Dense(128, activation='relu'),\n",
        "        layers.BatchNormalization(),\n",
        "        layers.Dropout(0.1),\n",
        "        layers.Dense(32, activation='relu'),\n",
        "        layers.BatchNormalization(),\n",
        "        layers.Dense(8, activation='sigmoid'),\n",
        "        layers.BatchNormalization(),\n",
        "        layers.Dense(1)\n",
        "    ])\n",
        "\n",
        "    initial_learning_rate = 0.000005\n",
        "    optimizer = tf.keras.optimizers.Adam(learning_rate=initial_learning_rate)\n",
        "\n",
        "    model.compile(optimizer=optimizer,\n",
        "                 loss='mse',\n",
        "                 metrics=['mae'])\n",
        "    return model"
      ],
      "metadata": {
        "id": "79lU-tfsD4lw"
      },
      "execution_count": 138,
      "outputs": []
    },
    {
      "cell_type": "code",
      "source": [
        "NN_model = create_model()\n",
        "NN_model.summary()"
      ],
      "metadata": {
        "colab": {
          "base_uri": "https://localhost:8080/",
          "height": 633
        },
        "id": "0JLZ-3A4EYvI",
        "outputId": "0eb70d59-7926-47ce-e633-6920add92cad"
      },
      "execution_count": 139,
      "outputs": [
        {
          "output_type": "stream",
          "name": "stderr",
          "text": [
            "/usr/local/lib/python3.11/dist-packages/keras/src/layers/core/dense.py:87: UserWarning: Do not pass an `input_shape`/`input_dim` argument to a layer. When using Sequential models, prefer using an `Input(shape)` object as the first layer in the model instead.\n",
            "  super().__init__(activity_regularizer=activity_regularizer, **kwargs)\n"
          ]
        },
        {
          "output_type": "display_data",
          "data": {
            "text/plain": [
              "\u001b[1mModel: \"sequential_2\"\u001b[0m\n"
            ],
            "text/html": [
              "<pre style=\"white-space:pre;overflow-x:auto;line-height:normal;font-family:Menlo,'DejaVu Sans Mono',consolas,'Courier New',monospace\"><span style=\"font-weight: bold\">Model: \"sequential_2\"</span>\n",
              "</pre>\n"
            ]
          },
          "metadata": {}
        },
        {
          "output_type": "display_data",
          "data": {
            "text/plain": [
              "┏━━━━━━━━━━━━━━━━━━━━━━━━━━━━━━━━━━━━━━┳━━━━━━━━━━━━━━━━━━━━━━━━━━━━━┳━━━━━━━━━━━━━━━━━┓\n",
              "┃\u001b[1m \u001b[0m\u001b[1mLayer (type)                        \u001b[0m\u001b[1m \u001b[0m┃\u001b[1m \u001b[0m\u001b[1mOutput Shape               \u001b[0m\u001b[1m \u001b[0m┃\u001b[1m \u001b[0m\u001b[1m        Param #\u001b[0m\u001b[1m \u001b[0m┃\n",
              "┡━━━━━━━━━━━━━━━━━━━━━━━━━━━━━━━━━━━━━━╇━━━━━━━━━━━━━━━━━━━━━━━━━━━━━╇━━━━━━━━━━━━━━━━━┩\n",
              "│ dense_10 (\u001b[38;5;33mDense\u001b[0m)                     │ (\u001b[38;5;45mNone\u001b[0m, \u001b[38;5;34m384\u001b[0m)                 │         \u001b[38;5;34m147,840\u001b[0m │\n",
              "├──────────────────────────────────────┼─────────────────────────────┼─────────────────┤\n",
              "│ batch_normalization_8                │ (\u001b[38;5;45mNone\u001b[0m, \u001b[38;5;34m384\u001b[0m)                 │           \u001b[38;5;34m1,536\u001b[0m │\n",
              "│ (\u001b[38;5;33mBatchNormalization\u001b[0m)                 │                             │                 │\n",
              "├──────────────────────────────────────┼─────────────────────────────┼─────────────────┤\n",
              "│ dropout_4 (\u001b[38;5;33mDropout\u001b[0m)                  │ (\u001b[38;5;45mNone\u001b[0m, \u001b[38;5;34m384\u001b[0m)                 │               \u001b[38;5;34m0\u001b[0m │\n",
              "├──────────────────────────────────────┼─────────────────────────────┼─────────────────┤\n",
              "│ dense_11 (\u001b[38;5;33mDense\u001b[0m)                     │ (\u001b[38;5;45mNone\u001b[0m, \u001b[38;5;34m128\u001b[0m)                 │          \u001b[38;5;34m49,280\u001b[0m │\n",
              "├──────────────────────────────────────┼─────────────────────────────┼─────────────────┤\n",
              "│ batch_normalization_9                │ (\u001b[38;5;45mNone\u001b[0m, \u001b[38;5;34m128\u001b[0m)                 │             \u001b[38;5;34m512\u001b[0m │\n",
              "│ (\u001b[38;5;33mBatchNormalization\u001b[0m)                 │                             │                 │\n",
              "├──────────────────────────────────────┼─────────────────────────────┼─────────────────┤\n",
              "│ dropout_5 (\u001b[38;5;33mDropout\u001b[0m)                  │ (\u001b[38;5;45mNone\u001b[0m, \u001b[38;5;34m128\u001b[0m)                 │               \u001b[38;5;34m0\u001b[0m │\n",
              "├──────────────────────────────────────┼─────────────────────────────┼─────────────────┤\n",
              "│ dense_12 (\u001b[38;5;33mDense\u001b[0m)                     │ (\u001b[38;5;45mNone\u001b[0m, \u001b[38;5;34m32\u001b[0m)                  │           \u001b[38;5;34m4,128\u001b[0m │\n",
              "├──────────────────────────────────────┼─────────────────────────────┼─────────────────┤\n",
              "│ batch_normalization_10               │ (\u001b[38;5;45mNone\u001b[0m, \u001b[38;5;34m32\u001b[0m)                  │             \u001b[38;5;34m128\u001b[0m │\n",
              "│ (\u001b[38;5;33mBatchNormalization\u001b[0m)                 │                             │                 │\n",
              "├──────────────────────────────────────┼─────────────────────────────┼─────────────────┤\n",
              "│ dense_13 (\u001b[38;5;33mDense\u001b[0m)                     │ (\u001b[38;5;45mNone\u001b[0m, \u001b[38;5;34m8\u001b[0m)                   │             \u001b[38;5;34m264\u001b[0m │\n",
              "├──────────────────────────────────────┼─────────────────────────────┼─────────────────┤\n",
              "│ batch_normalization_11               │ (\u001b[38;5;45mNone\u001b[0m, \u001b[38;5;34m8\u001b[0m)                   │              \u001b[38;5;34m32\u001b[0m │\n",
              "│ (\u001b[38;5;33mBatchNormalization\u001b[0m)                 │                             │                 │\n",
              "├──────────────────────────────────────┼─────────────────────────────┼─────────────────┤\n",
              "│ dense_14 (\u001b[38;5;33mDense\u001b[0m)                     │ (\u001b[38;5;45mNone\u001b[0m, \u001b[38;5;34m1\u001b[0m)                   │               \u001b[38;5;34m9\u001b[0m │\n",
              "└──────────────────────────────────────┴─────────────────────────────┴─────────────────┘\n"
            ],
            "text/html": [
              "<pre style=\"white-space:pre;overflow-x:auto;line-height:normal;font-family:Menlo,'DejaVu Sans Mono',consolas,'Courier New',monospace\">┏━━━━━━━━━━━━━━━━━━━━━━━━━━━━━━━━━━━━━━┳━━━━━━━━━━━━━━━━━━━━━━━━━━━━━┳━━━━━━━━━━━━━━━━━┓\n",
              "┃<span style=\"font-weight: bold\"> Layer (type)                         </span>┃<span style=\"font-weight: bold\"> Output Shape                </span>┃<span style=\"font-weight: bold\">         Param # </span>┃\n",
              "┡━━━━━━━━━━━━━━━━━━━━━━━━━━━━━━━━━━━━━━╇━━━━━━━━━━━━━━━━━━━━━━━━━━━━━╇━━━━━━━━━━━━━━━━━┩\n",
              "│ dense_10 (<span style=\"color: #0087ff; text-decoration-color: #0087ff\">Dense</span>)                     │ (<span style=\"color: #00d7ff; text-decoration-color: #00d7ff\">None</span>, <span style=\"color: #00af00; text-decoration-color: #00af00\">384</span>)                 │         <span style=\"color: #00af00; text-decoration-color: #00af00\">147,840</span> │\n",
              "├──────────────────────────────────────┼─────────────────────────────┼─────────────────┤\n",
              "│ batch_normalization_8                │ (<span style=\"color: #00d7ff; text-decoration-color: #00d7ff\">None</span>, <span style=\"color: #00af00; text-decoration-color: #00af00\">384</span>)                 │           <span style=\"color: #00af00; text-decoration-color: #00af00\">1,536</span> │\n",
              "│ (<span style=\"color: #0087ff; text-decoration-color: #0087ff\">BatchNormalization</span>)                 │                             │                 │\n",
              "├──────────────────────────────────────┼─────────────────────────────┼─────────────────┤\n",
              "│ dropout_4 (<span style=\"color: #0087ff; text-decoration-color: #0087ff\">Dropout</span>)                  │ (<span style=\"color: #00d7ff; text-decoration-color: #00d7ff\">None</span>, <span style=\"color: #00af00; text-decoration-color: #00af00\">384</span>)                 │               <span style=\"color: #00af00; text-decoration-color: #00af00\">0</span> │\n",
              "├──────────────────────────────────────┼─────────────────────────────┼─────────────────┤\n",
              "│ dense_11 (<span style=\"color: #0087ff; text-decoration-color: #0087ff\">Dense</span>)                     │ (<span style=\"color: #00d7ff; text-decoration-color: #00d7ff\">None</span>, <span style=\"color: #00af00; text-decoration-color: #00af00\">128</span>)                 │          <span style=\"color: #00af00; text-decoration-color: #00af00\">49,280</span> │\n",
              "├──────────────────────────────────────┼─────────────────────────────┼─────────────────┤\n",
              "│ batch_normalization_9                │ (<span style=\"color: #00d7ff; text-decoration-color: #00d7ff\">None</span>, <span style=\"color: #00af00; text-decoration-color: #00af00\">128</span>)                 │             <span style=\"color: #00af00; text-decoration-color: #00af00\">512</span> │\n",
              "│ (<span style=\"color: #0087ff; text-decoration-color: #0087ff\">BatchNormalization</span>)                 │                             │                 │\n",
              "├──────────────────────────────────────┼─────────────────────────────┼─────────────────┤\n",
              "│ dropout_5 (<span style=\"color: #0087ff; text-decoration-color: #0087ff\">Dropout</span>)                  │ (<span style=\"color: #00d7ff; text-decoration-color: #00d7ff\">None</span>, <span style=\"color: #00af00; text-decoration-color: #00af00\">128</span>)                 │               <span style=\"color: #00af00; text-decoration-color: #00af00\">0</span> │\n",
              "├──────────────────────────────────────┼─────────────────────────────┼─────────────────┤\n",
              "│ dense_12 (<span style=\"color: #0087ff; text-decoration-color: #0087ff\">Dense</span>)                     │ (<span style=\"color: #00d7ff; text-decoration-color: #00d7ff\">None</span>, <span style=\"color: #00af00; text-decoration-color: #00af00\">32</span>)                  │           <span style=\"color: #00af00; text-decoration-color: #00af00\">4,128</span> │\n",
              "├──────────────────────────────────────┼─────────────────────────────┼─────────────────┤\n",
              "│ batch_normalization_10               │ (<span style=\"color: #00d7ff; text-decoration-color: #00d7ff\">None</span>, <span style=\"color: #00af00; text-decoration-color: #00af00\">32</span>)                  │             <span style=\"color: #00af00; text-decoration-color: #00af00\">128</span> │\n",
              "│ (<span style=\"color: #0087ff; text-decoration-color: #0087ff\">BatchNormalization</span>)                 │                             │                 │\n",
              "├──────────────────────────────────────┼─────────────────────────────┼─────────────────┤\n",
              "│ dense_13 (<span style=\"color: #0087ff; text-decoration-color: #0087ff\">Dense</span>)                     │ (<span style=\"color: #00d7ff; text-decoration-color: #00d7ff\">None</span>, <span style=\"color: #00af00; text-decoration-color: #00af00\">8</span>)                   │             <span style=\"color: #00af00; text-decoration-color: #00af00\">264</span> │\n",
              "├──────────────────────────────────────┼─────────────────────────────┼─────────────────┤\n",
              "│ batch_normalization_11               │ (<span style=\"color: #00d7ff; text-decoration-color: #00d7ff\">None</span>, <span style=\"color: #00af00; text-decoration-color: #00af00\">8</span>)                   │              <span style=\"color: #00af00; text-decoration-color: #00af00\">32</span> │\n",
              "│ (<span style=\"color: #0087ff; text-decoration-color: #0087ff\">BatchNormalization</span>)                 │                             │                 │\n",
              "├──────────────────────────────────────┼─────────────────────────────┼─────────────────┤\n",
              "│ dense_14 (<span style=\"color: #0087ff; text-decoration-color: #0087ff\">Dense</span>)                     │ (<span style=\"color: #00d7ff; text-decoration-color: #00d7ff\">None</span>, <span style=\"color: #00af00; text-decoration-color: #00af00\">1</span>)                   │               <span style=\"color: #00af00; text-decoration-color: #00af00\">9</span> │\n",
              "└──────────────────────────────────────┴─────────────────────────────┴─────────────────┘\n",
              "</pre>\n"
            ]
          },
          "metadata": {}
        },
        {
          "output_type": "display_data",
          "data": {
            "text/plain": [
              "\u001b[1m Total params: \u001b[0m\u001b[38;5;34m203,729\u001b[0m (795.82 KB)\n"
            ],
            "text/html": [
              "<pre style=\"white-space:pre;overflow-x:auto;line-height:normal;font-family:Menlo,'DejaVu Sans Mono',consolas,'Courier New',monospace\"><span style=\"font-weight: bold\"> Total params: </span><span style=\"color: #00af00; text-decoration-color: #00af00\">203,729</span> (795.82 KB)\n",
              "</pre>\n"
            ]
          },
          "metadata": {}
        },
        {
          "output_type": "display_data",
          "data": {
            "text/plain": [
              "\u001b[1m Trainable params: \u001b[0m\u001b[38;5;34m202,625\u001b[0m (791.50 KB)\n"
            ],
            "text/html": [
              "<pre style=\"white-space:pre;overflow-x:auto;line-height:normal;font-family:Menlo,'DejaVu Sans Mono',consolas,'Courier New',monospace\"><span style=\"font-weight: bold\"> Trainable params: </span><span style=\"color: #00af00; text-decoration-color: #00af00\">202,625</span> (791.50 KB)\n",
              "</pre>\n"
            ]
          },
          "metadata": {}
        },
        {
          "output_type": "display_data",
          "data": {
            "text/plain": [
              "\u001b[1m Non-trainable params: \u001b[0m\u001b[38;5;34m1,104\u001b[0m (4.31 KB)\n"
            ],
            "text/html": [
              "<pre style=\"white-space:pre;overflow-x:auto;line-height:normal;font-family:Menlo,'DejaVu Sans Mono',consolas,'Courier New',monospace\"><span style=\"font-weight: bold\"> Non-trainable params: </span><span style=\"color: #00af00; text-decoration-color: #00af00\">1,104</span> (4.31 KB)\n",
              "</pre>\n"
            ]
          },
          "metadata": {}
        }
      ]
    },
    {
      "cell_type": "markdown",
      "source": [
        "##2. Training the model"
      ],
      "metadata": {
        "id": "YQ3uMk0qEfJM"
      }
    },
    {
      "cell_type": "code",
      "source": [
        "history = NN_model.fit(\n",
        "    X_train, y_train,\n",
        "    epochs=50,\n",
        "    batch_size=64,\n",
        "    validation_split=0.15,\n",
        "    shuffle=True,\n",
        "    callbacks=[\n",
        "        tf.keras.callbacks.ReduceLROnPlateau(\n",
        "            monitor='val_loss',\n",
        "            factor=0.5,\n",
        "            patience=12,\n",
        "            min_lr=0.0000001\n",
        "        ),\n",
        "        tf.keras.callbacks.EarlyStopping(\n",
        "            monitor='val_loss',\n",
        "            patience=20,\n",
        "            restore_best_weights=True\n",
        "        )\n",
        "    ],\n",
        "    verbose=1\n",
        ")"
      ],
      "metadata": {
        "colab": {
          "base_uri": "https://localhost:8080/"
        },
        "id": "NRJLZFiaEe02",
        "outputId": "1d902f86-7b71-4454-9b35-311a7dc7dad3"
      },
      "execution_count": 140,
      "outputs": [
        {
          "output_type": "stream",
          "name": "stdout",
          "text": [
            "Epoch 1/50\n",
            "\u001b[1m410/410\u001b[0m \u001b[32m━━━━━━━━━━━━━━━━━━━━\u001b[0m\u001b[37m\u001b[0m \u001b[1m11s\u001b[0m 11ms/step - loss: 2.0582 - mae: 1.1639 - val_loss: 1.8443 - val_mae: 1.2242 - learning_rate: 5.0000e-06\n",
            "Epoch 2/50\n",
            "\u001b[1m410/410\u001b[0m \u001b[32m━━━━━━━━━━━━━━━━━━━━\u001b[0m\u001b[37m\u001b[0m \u001b[1m4s\u001b[0m 3ms/step - loss: 0.8864 - mae: 0.7572 - val_loss: 0.5868 - val_mae: 0.6245 - learning_rate: 5.0000e-06\n",
            "Epoch 3/50\n",
            "\u001b[1m410/410\u001b[0m \u001b[32m━━━━━━━━━━━━━━━━━━━━\u001b[0m\u001b[37m\u001b[0m \u001b[1m1s\u001b[0m 3ms/step - loss: 0.6198 - mae: 0.6271 - val_loss: 0.4167 - val_mae: 0.5154 - learning_rate: 5.0000e-06\n",
            "Epoch 4/50\n",
            "\u001b[1m410/410\u001b[0m \u001b[32m━━━━━━━━━━━━━━━━━━━━\u001b[0m\u001b[37m\u001b[0m \u001b[1m1s\u001b[0m 4ms/step - loss: 0.4797 - mae: 0.5504 - val_loss: 0.3509 - val_mae: 0.4665 - learning_rate: 5.0000e-06\n",
            "Epoch 5/50\n",
            "\u001b[1m410/410\u001b[0m \u001b[32m━━━━━━━━━━━━━━━━━━━━\u001b[0m\u001b[37m\u001b[0m \u001b[1m3s\u001b[0m 4ms/step - loss: 0.4152 - mae: 0.5084 - val_loss: 0.3000 - val_mae: 0.4241 - learning_rate: 5.0000e-06\n",
            "Epoch 6/50\n",
            "\u001b[1m410/410\u001b[0m \u001b[32m━━━━━━━━━━━━━━━━━━━━\u001b[0m\u001b[37m\u001b[0m \u001b[1m2s\u001b[0m 3ms/step - loss: 0.3469 - mae: 0.4601 - val_loss: 0.2741 - val_mae: 0.3987 - learning_rate: 5.0000e-06\n",
            "Epoch 7/50\n",
            "\u001b[1m410/410\u001b[0m \u001b[32m━━━━━━━━━━━━━━━━━━━━\u001b[0m\u001b[37m\u001b[0m \u001b[1m1s\u001b[0m 3ms/step - loss: 0.3046 - mae: 0.4300 - val_loss: 0.2413 - val_mae: 0.3656 - learning_rate: 5.0000e-06\n",
            "Epoch 8/50\n",
            "\u001b[1m410/410\u001b[0m \u001b[32m━━━━━━━━━━━━━━━━━━━━\u001b[0m\u001b[37m\u001b[0m \u001b[1m1s\u001b[0m 3ms/step - loss: 0.2859 - mae: 0.4139 - val_loss: 0.2229 - val_mae: 0.3465 - learning_rate: 5.0000e-06\n",
            "Epoch 9/50\n",
            "\u001b[1m410/410\u001b[0m \u001b[32m━━━━━━━━━━━━━━━━━━━━\u001b[0m\u001b[37m\u001b[0m \u001b[1m1s\u001b[0m 3ms/step - loss: 0.2579 - mae: 0.3909 - val_loss: 0.2096 - val_mae: 0.3328 - learning_rate: 5.0000e-06\n",
            "Epoch 10/50\n",
            "\u001b[1m410/410\u001b[0m \u001b[32m━━━━━━━━━━━━━━━━━━━━\u001b[0m\u001b[37m\u001b[0m \u001b[1m1s\u001b[0m 3ms/step - loss: 0.2408 - mae: 0.3758 - val_loss: 0.1960 - val_mae: 0.3186 - learning_rate: 5.0000e-06\n",
            "Epoch 11/50\n",
            "\u001b[1m410/410\u001b[0m \u001b[32m━━━━━━━━━━━━━━━━━━━━\u001b[0m\u001b[37m\u001b[0m \u001b[1m1s\u001b[0m 3ms/step - loss: 0.2306 - mae: 0.3658 - val_loss: 0.1852 - val_mae: 0.3060 - learning_rate: 5.0000e-06\n",
            "Epoch 12/50\n",
            "\u001b[1m410/410\u001b[0m \u001b[32m━━━━━━━━━━━━━━━━━━━━\u001b[0m\u001b[37m\u001b[0m \u001b[1m1s\u001b[0m 3ms/step - loss: 0.2141 - mae: 0.3515 - val_loss: 0.1808 - val_mae: 0.3007 - learning_rate: 5.0000e-06\n",
            "Epoch 13/50\n",
            "\u001b[1m410/410\u001b[0m \u001b[32m━━━━━━━━━━━━━━━━━━━━\u001b[0m\u001b[37m\u001b[0m \u001b[1m2s\u001b[0m 4ms/step - loss: 0.2027 - mae: 0.3399 - val_loss: 0.1734 - val_mae: 0.2931 - learning_rate: 5.0000e-06\n",
            "Epoch 14/50\n",
            "\u001b[1m410/410\u001b[0m \u001b[32m━━━━━━━━━━━━━━━━━━━━\u001b[0m\u001b[37m\u001b[0m \u001b[1m2s\u001b[0m 3ms/step - loss: 0.1961 - mae: 0.3303 - val_loss: 0.1640 - val_mae: 0.2842 - learning_rate: 5.0000e-06\n",
            "Epoch 15/50\n",
            "\u001b[1m410/410\u001b[0m \u001b[32m━━━━━━━━━━━━━━━━━━━━\u001b[0m\u001b[37m\u001b[0m \u001b[1m2s\u001b[0m 3ms/step - loss: 0.1856 - mae: 0.3228 - val_loss: 0.1606 - val_mae: 0.2802 - learning_rate: 5.0000e-06\n",
            "Epoch 16/50\n",
            "\u001b[1m410/410\u001b[0m \u001b[32m━━━━━━━━━━━━━━━━━━━━\u001b[0m\u001b[37m\u001b[0m \u001b[1m1s\u001b[0m 3ms/step - loss: 0.1796 - mae: 0.3162 - val_loss: 0.1562 - val_mae: 0.2765 - learning_rate: 5.0000e-06\n",
            "Epoch 17/50\n",
            "\u001b[1m410/410\u001b[0m \u001b[32m━━━━━━━━━━━━━━━━━━━━\u001b[0m\u001b[37m\u001b[0m \u001b[1m1s\u001b[0m 3ms/step - loss: 0.1730 - mae: 0.3100 - val_loss: 0.1519 - val_mae: 0.2726 - learning_rate: 5.0000e-06\n",
            "Epoch 18/50\n",
            "\u001b[1m410/410\u001b[0m \u001b[32m━━━━━━━━━━━━━━━━━━━━\u001b[0m\u001b[37m\u001b[0m \u001b[1m1s\u001b[0m 3ms/step - loss: 0.1718 - mae: 0.3088 - val_loss: 0.1466 - val_mae: 0.2689 - learning_rate: 5.0000e-06\n",
            "Epoch 19/50\n",
            "\u001b[1m410/410\u001b[0m \u001b[32m━━━━━━━━━━━━━━━━━━━━\u001b[0m\u001b[37m\u001b[0m \u001b[1m1s\u001b[0m 3ms/step - loss: 0.1601 - mae: 0.2979 - val_loss: 0.1427 - val_mae: 0.2663 - learning_rate: 5.0000e-06\n",
            "Epoch 20/50\n",
            "\u001b[1m410/410\u001b[0m \u001b[32m━━━━━━━━━━━━━━━━━━━━\u001b[0m\u001b[37m\u001b[0m \u001b[1m2s\u001b[0m 4ms/step - loss: 0.1582 - mae: 0.2956 - val_loss: 0.1392 - val_mae: 0.2648 - learning_rate: 5.0000e-06\n",
            "Epoch 21/50\n",
            "\u001b[1m410/410\u001b[0m \u001b[32m━━━━━━━━━━━━━━━━━━━━\u001b[0m\u001b[37m\u001b[0m \u001b[1m2s\u001b[0m 4ms/step - loss: 0.1525 - mae: 0.2927 - val_loss: 0.1361 - val_mae: 0.2629 - learning_rate: 5.0000e-06\n",
            "Epoch 22/50\n",
            "\u001b[1m410/410\u001b[0m \u001b[32m━━━━━━━━━━━━━━━━━━━━\u001b[0m\u001b[37m\u001b[0m \u001b[1m3s\u001b[0m 4ms/step - loss: 0.1525 - mae: 0.2909 - val_loss: 0.1349 - val_mae: 0.2620 - learning_rate: 5.0000e-06\n",
            "Epoch 23/50\n",
            "\u001b[1m410/410\u001b[0m \u001b[32m━━━━━━━━━━━━━━━━━━━━\u001b[0m\u001b[37m\u001b[0m \u001b[1m2s\u001b[0m 4ms/step - loss: 0.1479 - mae: 0.2886 - val_loss: 0.1324 - val_mae: 0.2617 - learning_rate: 5.0000e-06\n",
            "Epoch 24/50\n",
            "\u001b[1m410/410\u001b[0m \u001b[32m━━━━━━━━━━━━━━━━━━━━\u001b[0m\u001b[37m\u001b[0m \u001b[1m1s\u001b[0m 3ms/step - loss: 0.1441 - mae: 0.2848 - val_loss: 0.1302 - val_mae: 0.2615 - learning_rate: 5.0000e-06\n",
            "Epoch 25/50\n",
            "\u001b[1m410/410\u001b[0m \u001b[32m━━━━━━━━━━━━━━━━━━━━\u001b[0m\u001b[37m\u001b[0m \u001b[1m1s\u001b[0m 3ms/step - loss: 0.1429 - mae: 0.2838 - val_loss: 0.1282 - val_mae: 0.2616 - learning_rate: 5.0000e-06\n",
            "Epoch 26/50\n",
            "\u001b[1m410/410\u001b[0m \u001b[32m━━━━━━━━━━━━━━━━━━━━\u001b[0m\u001b[37m\u001b[0m \u001b[1m1s\u001b[0m 3ms/step - loss: 0.1394 - mae: 0.2822 - val_loss: 0.1262 - val_mae: 0.2615 - learning_rate: 5.0000e-06\n",
            "Epoch 27/50\n",
            "\u001b[1m410/410\u001b[0m \u001b[32m━━━━━━━━━━━━━━━━━━━━\u001b[0m\u001b[37m\u001b[0m \u001b[1m1s\u001b[0m 3ms/step - loss: 0.1355 - mae: 0.2791 - val_loss: 0.1243 - val_mae: 0.2624 - learning_rate: 5.0000e-06\n",
            "Epoch 28/50\n",
            "\u001b[1m410/410\u001b[0m \u001b[32m━━━━━━━━━━━━━━━━━━━━\u001b[0m\u001b[37m\u001b[0m \u001b[1m1s\u001b[0m 3ms/step - loss: 0.1349 - mae: 0.2800 - val_loss: 0.1229 - val_mae: 0.2631 - learning_rate: 5.0000e-06\n",
            "Epoch 29/50\n",
            "\u001b[1m410/410\u001b[0m \u001b[32m━━━━━━━━━━━━━━━━━━━━\u001b[0m\u001b[37m\u001b[0m \u001b[1m1s\u001b[0m 3ms/step - loss: 0.1313 - mae: 0.2775 - val_loss: 0.1223 - val_mae: 0.2631 - learning_rate: 5.0000e-06\n",
            "Epoch 30/50\n",
            "\u001b[1m410/410\u001b[0m \u001b[32m━━━━━━━━━━━━━━━━━━━━\u001b[0m\u001b[37m\u001b[0m \u001b[1m3s\u001b[0m 4ms/step - loss: 0.1325 - mae: 0.2800 - val_loss: 0.1209 - val_mae: 0.2645 - learning_rate: 5.0000e-06\n",
            "Epoch 31/50\n",
            "\u001b[1m410/410\u001b[0m \u001b[32m━━━━━━━━━━━━━━━━━━━━\u001b[0m\u001b[37m\u001b[0m \u001b[1m1s\u001b[0m 3ms/step - loss: 0.1266 - mae: 0.2738 - val_loss: 0.1205 - val_mae: 0.2645 - learning_rate: 5.0000e-06\n",
            "Epoch 32/50\n",
            "\u001b[1m410/410\u001b[0m \u001b[32m━━━━━━━━━━━━━━━━━━━━\u001b[0m\u001b[37m\u001b[0m \u001b[1m1s\u001b[0m 3ms/step - loss: 0.1297 - mae: 0.2789 - val_loss: 0.1189 - val_mae: 0.2666 - learning_rate: 5.0000e-06\n",
            "Epoch 33/50\n",
            "\u001b[1m410/410\u001b[0m \u001b[32m━━━━━━━━━━━━━━━━━━━━\u001b[0m\u001b[37m\u001b[0m \u001b[1m1s\u001b[0m 3ms/step - loss: 0.1274 - mae: 0.2779 - val_loss: 0.1184 - val_mae: 0.2679 - learning_rate: 5.0000e-06\n",
            "Epoch 34/50\n",
            "\u001b[1m410/410\u001b[0m \u001b[32m━━━━━━━━━━━━━━━━━━━━\u001b[0m\u001b[37m\u001b[0m \u001b[1m1s\u001b[0m 3ms/step - loss: 0.1234 - mae: 0.2746 - val_loss: 0.1176 - val_mae: 0.2682 - learning_rate: 5.0000e-06\n",
            "Epoch 35/50\n",
            "\u001b[1m410/410\u001b[0m \u001b[32m━━━━━━━━━━━━━━━━━━━━\u001b[0m\u001b[37m\u001b[0m \u001b[1m1s\u001b[0m 3ms/step - loss: 0.1254 - mae: 0.2785 - val_loss: 0.1168 - val_mae: 0.2697 - learning_rate: 5.0000e-06\n",
            "Epoch 36/50\n",
            "\u001b[1m410/410\u001b[0m \u001b[32m━━━━━━━━━━━━━━━━━━━━\u001b[0m\u001b[37m\u001b[0m \u001b[1m1s\u001b[0m 3ms/step - loss: 0.1247 - mae: 0.2782 - val_loss: 0.1162 - val_mae: 0.2707 - learning_rate: 5.0000e-06\n",
            "Epoch 37/50\n",
            "\u001b[1m410/410\u001b[0m \u001b[32m━━━━━━━━━━━━━━━━━━━━\u001b[0m\u001b[37m\u001b[0m \u001b[1m1s\u001b[0m 3ms/step - loss: 0.1228 - mae: 0.2768 - val_loss: 0.1161 - val_mae: 0.2704 - learning_rate: 5.0000e-06\n",
            "Epoch 38/50\n",
            "\u001b[1m410/410\u001b[0m \u001b[32m━━━━━━━━━━━━━━━━━━━━\u001b[0m\u001b[37m\u001b[0m \u001b[1m1s\u001b[0m 3ms/step - loss: 0.1241 - mae: 0.2792 - val_loss: 0.1156 - val_mae: 0.2721 - learning_rate: 5.0000e-06\n",
            "Epoch 39/50\n",
            "\u001b[1m410/410\u001b[0m \u001b[32m━━━━━━━━━━━━━━━━━━━━\u001b[0m\u001b[37m\u001b[0m \u001b[1m1s\u001b[0m 3ms/step - loss: 0.1222 - mae: 0.2786 - val_loss: 0.1150 - val_mae: 0.2728 - learning_rate: 5.0000e-06\n",
            "Epoch 40/50\n",
            "\u001b[1m410/410\u001b[0m \u001b[32m━━━━━━━━━━━━━━━━━━━━\u001b[0m\u001b[37m\u001b[0m \u001b[1m2s\u001b[0m 4ms/step - loss: 0.1210 - mae: 0.2787 - val_loss: 0.1150 - val_mae: 0.2730 - learning_rate: 5.0000e-06\n",
            "Epoch 41/50\n",
            "\u001b[1m410/410\u001b[0m \u001b[32m━━━━━━━━━━━━━━━━━━━━\u001b[0m\u001b[37m\u001b[0m \u001b[1m2s\u001b[0m 4ms/step - loss: 0.1214 - mae: 0.2799 - val_loss: 0.1148 - val_mae: 0.2735 - learning_rate: 5.0000e-06\n",
            "Epoch 42/50\n",
            "\u001b[1m410/410\u001b[0m \u001b[32m━━━━━━━━━━━━━━━━━━━━\u001b[0m\u001b[37m\u001b[0m \u001b[1m2s\u001b[0m 3ms/step - loss: 0.1202 - mae: 0.2786 - val_loss: 0.1144 - val_mae: 0.2745 - learning_rate: 5.0000e-06\n",
            "Epoch 43/50\n",
            "\u001b[1m410/410\u001b[0m \u001b[32m━━━━━━━━━━━━━━━━━━━━\u001b[0m\u001b[37m\u001b[0m \u001b[1m1s\u001b[0m 3ms/step - loss: 0.1212 - mae: 0.2806 - val_loss: 0.1144 - val_mae: 0.2743 - learning_rate: 5.0000e-06\n",
            "Epoch 44/50\n",
            "\u001b[1m410/410\u001b[0m \u001b[32m━━━━━━━━━━━━━━━━━━━━\u001b[0m\u001b[37m\u001b[0m \u001b[1m1s\u001b[0m 3ms/step - loss: 0.1222 - mae: 0.2818 - val_loss: 0.1142 - val_mae: 0.2750 - learning_rate: 5.0000e-06\n",
            "Epoch 45/50\n",
            "\u001b[1m410/410\u001b[0m \u001b[32m━━━━━━━━━━━━━━━━━━━━\u001b[0m\u001b[37m\u001b[0m \u001b[1m1s\u001b[0m 3ms/step - loss: 0.1182 - mae: 0.2779 - val_loss: 0.1142 - val_mae: 0.2756 - learning_rate: 5.0000e-06\n",
            "Epoch 46/50\n",
            "\u001b[1m410/410\u001b[0m \u001b[32m━━━━━━━━━━━━━━━━━━━━\u001b[0m\u001b[37m\u001b[0m \u001b[1m1s\u001b[0m 3ms/step - loss: 0.1177 - mae: 0.2786 - val_loss: 0.1139 - val_mae: 0.2765 - learning_rate: 5.0000e-06\n",
            "Epoch 47/50\n",
            "\u001b[1m410/410\u001b[0m \u001b[32m━━━━━━━━━━━━━━━━━━━━\u001b[0m\u001b[37m\u001b[0m \u001b[1m1s\u001b[0m 3ms/step - loss: 0.1186 - mae: 0.2800 - val_loss: 0.1138 - val_mae: 0.2763 - learning_rate: 5.0000e-06\n",
            "Epoch 48/50\n",
            "\u001b[1m410/410\u001b[0m \u001b[32m━━━━━━━━━━━━━━━━━━━━\u001b[0m\u001b[37m\u001b[0m \u001b[1m1s\u001b[0m 3ms/step - loss: 0.1179 - mae: 0.2794 - val_loss: 0.1137 - val_mae: 0.2766 - learning_rate: 5.0000e-06\n",
            "Epoch 49/50\n",
            "\u001b[1m410/410\u001b[0m \u001b[32m━━━━━━━━━━━━━━━━━━━━\u001b[0m\u001b[37m\u001b[0m \u001b[1m1s\u001b[0m 3ms/step - loss: 0.1174 - mae: 0.2792 - val_loss: 0.1135 - val_mae: 0.2771 - learning_rate: 5.0000e-06\n",
            "Epoch 50/50\n",
            "\u001b[1m410/410\u001b[0m \u001b[32m━━━━━━━━━━━━━━━━━━━━\u001b[0m\u001b[37m\u001b[0m \u001b[1m2s\u001b[0m 4ms/step - loss: 0.1182 - mae: 0.2812 - val_loss: 0.1134 - val_mae: 0.2772 - learning_rate: 5.0000e-06\n"
          ]
        }
      ]
    },
    {
      "cell_type": "code",
      "source": [
        "NN_model.save('NN_model_title_moredata.keras')"
      ],
      "metadata": {
        "id": "cngGNGypNB8r"
      },
      "execution_count": 142,
      "outputs": []
    },
    {
      "cell_type": "markdown",
      "source": [
        "## Assessing the testing"
      ],
      "metadata": {
        "id": "ijm28f0GE6Kl"
      }
    },
    {
      "cell_type": "code",
      "source": [
        "def plot_training_history(history):\n",
        "    plt.figure(figsize=(12, 4))\n",
        "\n",
        "    # LOSS\n",
        "    plt.subplot(1, 2, 1)\n",
        "    plt.plot(history.history['loss'], label='Training Loss')\n",
        "    plt.plot(history.history['val_loss'], label='Validation Loss')\n",
        "    plt.title('Model Loss')\n",
        "    plt.xlabel('Epoch')\n",
        "    plt.ylabel('Loss')\n",
        "    plt.legend()\n",
        "\n",
        "    # MAE\n",
        "    plt.subplot(1, 2, 2)\n",
        "    plt.plot(history.history['mae'], label='Training MAE')\n",
        "    plt.plot(history.history['val_mae'], label='Validation MAE')\n",
        "    plt.title('Model MAE')\n",
        "    plt.xlabel('Epoch')\n",
        "    plt.ylabel('MAE')\n",
        "    plt.legend()\n",
        "\n",
        "    plt.tight_layout()"
      ],
      "metadata": {
        "id": "XmfpBTLWE9nZ"
      },
      "execution_count": 143,
      "outputs": []
    },
    {
      "cell_type": "code",
      "source": [
        "plot_training_history(history)"
      ],
      "metadata": {
        "colab": {
          "base_uri": "https://localhost:8080/",
          "height": 315
        },
        "id": "AGNqeCcOFFMY",
        "outputId": "fbac4a61-313e-40fe-9b66-a63b9513c234"
      },
      "execution_count": 144,
      "outputs": [
        {
          "output_type": "display_data",
          "data": {
            "text/plain": [
              "<Figure size 1200x400 with 2 Axes>"
            ],
            "image/png": "[encoded data removed]"
          },
          "metadata": {}
        }
      ]
    },
    {
      "cell_type": "markdown",
      "source": [
        "## Validation"
      ],
      "metadata": {
        "id": "fx3joMwRFbaA"
      }
    },
    {
      "cell_type": "code",
      "source": [
        "def evaluate_model_new(model, X_test, y_test):\n",
        "\n",
        "    y_pred = model.predict(X_test)\n",
        "    y_pred = y_pred.flatten()\n",
        "\n",
        "    mse = mean_squared_error(y_test, y_pred)\n",
        "\n",
        "    mae = mean_absolute_error(y_test, y_pred)\n",
        "\n",
        "    print(f\"Mean Squared Error (MSE): {mse:.4f}\")\n",
        "    print(f\"Mean Absolute Error (MAE): {mae:.4f}\")\n",
        "\n",
        "    return mse, mae\n"
      ],
      "metadata": {
        "id": "y4VZDYDGFdk9"
      },
      "execution_count": 145,
      "outputs": []
    },
    {
      "cell_type": "code",
      "source": [
        "mse, mae = evaluate_model_new(NN_model, X_test, y_test)"
      ],
      "metadata": {
        "colab": {
          "base_uri": "https://localhost:8080/"
        },
        "id": "rD5s2vX7FkVB",
        "outputId": "fe2b4b74-6778-4995-910b-f628cd4315d4"
      },
      "execution_count": 146,
      "outputs": [
        {
          "output_type": "stream",
          "name": "stdout",
          "text": [
            "\u001b[1m241/241\u001b[0m \u001b[32m━━━━━━━━━━━━━━━━━━━━\u001b[0m\u001b[37m\u001b[0m \u001b[1m1s\u001b[0m 3ms/step\n",
            "Mean Squared Error (MSE): 0.1161\n",
            "Mean Absolute Error (MAE): 0.2789\n"
          ]
        }
      ]
    },
    {
      "cell_type": "markdown",
      "source": [
        "##3. Testing the model"
      ],
      "metadata": {
        "id": "q4s77MehEmvM"
      }
    },
    {
      "cell_type": "markdown",
      "source": [
        "## Loading the testing data"
      ],
      "metadata": {
        "id": "Q6g7OeD6FqSo"
      }
    },
    {
      "cell_type": "code",
      "execution_count": 147,
      "metadata": {
        "id": "3R8SJKApKraP"
      },
      "outputs": [],
      "source": [
        "truth_src = \"/content/b1/truth.jsonl\"\n",
        "test_truth_data = []\n",
        "with open(truth_src,encoding=\"utf8\") as f:\n",
        "    cnt = 0\n",
        "    for line in f:\n",
        "        test_truth_data.append(json.loads(line))"
      ]
    },
    {
      "cell_type": "code",
      "execution_count": 148,
      "metadata": {
        "id": "3vTb7I_pTwA0"
      },
      "outputs": [],
      "source": [
        "target_src = \"/content/b1/instances.jsonl\"\n",
        "test_target_data = []\n",
        "with open(target_src,encoding=\"utf8\") as f:\n",
        "    cnt = 0\n",
        "    for line in f:\n",
        "        test_target_data.append(json.loads(line))"
      ]
    },
    {
      "cell_type": "code",
      "execution_count": 149,
      "metadata": {
        "id": "vofrT98eTyDa"
      },
      "outputs": [],
      "source": [
        "test_truth_data_df = pd.DataFrame(test_truth_data)\n",
        "test_target_data_df = pd.DataFrame(test_target_data)"
      ]
    },
    {
      "cell_type": "code",
      "source": [
        "test_data= pd.DataFrame()\n",
        "\n",
        "test_data['target_id'] = test_target_data_df['id']\n",
        "test_data['truth_id'] = test_truth_data_df['id']\n",
        "test_data['target_title'] = test_target_data_df['targetTitle']\n",
        "test_data['target_desc'] = test_target_data_df['targetDescription']\n",
        "test_data['target_keywords'] = test_target_data_df['targetKeywords']\n",
        "test_data['truth_mean'] = test_truth_data_df['truthMean']\n",
        "test_data['truth_mode'] = test_truth_data_df['truthMode']\n",
        "test_data['truth_median'] = test_truth_data_df['truthMedian']\n",
        "test_data['truth_class'] = test_truth_data_df['truthClass']"
      ],
      "metadata": {
        "id": "N9prvT3aGK38"
      },
      "execution_count": 150,
      "outputs": []
    },
    {
      "cell_type": "code",
      "source": [
        "test_data.info()"
      ],
      "metadata": {
        "colab": {
          "base_uri": "https://localhost:8080/"
        },
        "id": "PIGWBosWTsV0",
        "outputId": "ca15b645-473d-4807-b51f-5c0dc3a1de03"
      },
      "execution_count": 151,
      "outputs": [
        {
          "output_type": "stream",
          "name": "stdout",
          "text": [
            "<class 'pandas.core.frame.DataFrame'>\n",
            "RangeIndex: 2459 entries, 0 to 2458\n",
            "Data columns (total 9 columns):\n",
            " #   Column           Non-Null Count  Dtype  \n",
            "---  ------           --------------  -----  \n",
            " 0   target_id        2459 non-null   object \n",
            " 1   truth_id         2459 non-null   object \n",
            " 2   target_title     2459 non-null   object \n",
            " 3   target_desc      2459 non-null   object \n",
            " 4   target_keywords  2459 non-null   object \n",
            " 5   truth_mean       2459 non-null   float64\n",
            " 6   truth_mode       2459 non-null   float64\n",
            " 7   truth_median     2459 non-null   float64\n",
            " 8   truth_class      2459 non-null   object \n",
            "dtypes: float64(3), object(6)\n",
            "memory usage: 173.0+ KB\n"
          ]
        }
      ]
    },
    {
      "cell_type": "markdown",
      "source": [
        "## Generating the embeddings"
      ],
      "metadata": {
        "id": "pN8pjA13F-9m"
      }
    },
    {
      "cell_type": "code",
      "source": [
        "# print(\"Preparing test text data...\")\n",
        "# test_data['combined_text'] = test_data.apply(\n",
        "#     lambda x: f\"Title: {preprocess_text(x['target_title'])} Keywords: {preprocess_text(x['target_keywords'])} Description: {preprocess_text(x['target_desc'])}\",\n",
        "#     axis=1\n",
        "# )"
      ],
      "metadata": {
        "colab": {
          "base_uri": "https://localhost:8080/"
        },
        "id": "cfRTbMABGb5S",
        "outputId": "43718a9d-fc6d-486b-d052-f7e434d1f1b9"
      },
      "execution_count": 42,
      "outputs": [
        {
          "output_type": "stream",
          "name": "stdout",
          "text": [
            "Preparing test text data...\n"
          ]
        }
      ]
    },
    {
      "cell_type": "code",
      "source": [
        "# Title only\n",
        "print(\"Preparing text data...\")\n",
        "test_data['combined_text'] = test_data.apply(\n",
        "    lambda x: f\"{preprocess_text(x['target_title'])}\",\n",
        "    axis=1\n",
        ")"
      ],
      "metadata": {
        "colab": {
          "base_uri": "https://localhost:8080/"
        },
        "outputId": "ea4a502f-c394-42d4-fd81-dd0a60d7ff53",
        "id": "HLp5UD3sRWee"
      },
      "execution_count": 152,
      "outputs": [
        {
          "output_type": "stream",
          "name": "stdout",
          "text": [
            "Preparing text data...\n"
          ]
        }
      ]
    },
    {
      "cell_type": "code",
      "source": [
        "print(\"Generating test embeddings...\")\n",
        "# We are using combined text which is combination of 3 features.\n",
        "test_X = get_embeddings(\n",
        "    test_data['combined_text'].tolist(),\n",
        "    tokenizer,\n",
        "    model\n",
        ")\n",
        "# Note: Label of the weighted sum of all the truth value for better understanding and removing bias\n",
        "test_y = ((2*test_data['truth_mode']+test_data['truth_median']+0.1*test_data['truth_mean'])/3.1).values\n",
        "print(\"test embeddings generated\")"
      ],
      "metadata": {
        "colab": {
          "base_uri": "https://localhost:8080/"
        },
        "id": "LRYKEbXZGb5S",
        "outputId": "d2e38662-f099-408d-a276-78f2e16b97f8"
      },
      "execution_count": 153,
      "outputs": [
        {
          "output_type": "stream",
          "name": "stdout",
          "text": [
            "Generating test embeddings...\n"
          ]
        },
        {
          "output_type": "stream",
          "name": "stderr",
          "text": [
            "Generating embeddings: 100%|██████████| 154/154 [00:11<00:00, 13.37it/s]\n"
          ]
        },
        {
          "output_type": "stream",
          "name": "stdout",
          "text": [
            "test embeddings generated\n"
          ]
        }
      ]
    },
    {
      "cell_type": "code",
      "source": [
        "# 8. For scikit learn\n",
        "print(\"Scaling features...\")\n",
        "scaler = StandardScaler()\n",
        "X_train_scaled = scaler.fit_transform(X_train)\n",
        "test_X_scaled = scaler.transform(test_X)\n",
        "\n",
        "print(\"Features are ready to test!\")"
      ],
      "metadata": {
        "colab": {
          "base_uri": "https://localhost:8080/"
        },
        "id": "8s6eXa5dGb5S",
        "outputId": "a36424bb-679e-4b1a-88d7-10c159a61f0b"
      },
      "execution_count": 154,
      "outputs": [
        {
          "output_type": "stream",
          "name": "stdout",
          "text": [
            "Scaling features...\n",
            "Features are ready to test!\n"
          ]
        }
      ]
    },
    {
      "cell_type": "code",
      "source": [
        "# Loading the trained Model"
      ],
      "metadata": {
        "id": "YGC6BWyRHP_R"
      },
      "execution_count": 155,
      "outputs": []
    },
    {
      "cell_type": "code",
      "source": [
        "latest_model = keras.models.load_model('NN_latest_2.keras')\n",
        "latest_model.summary()"
      ],
      "metadata": {
        "id": "7gMxmq6vHT0l"
      },
      "execution_count": null,
      "outputs": []
    },
    {
      "cell_type": "code",
      "source": [
        "#1 Deviation based"
      ],
      "metadata": {
        "id": "aRFPJV0nEo9E"
      },
      "execution_count": 156,
      "outputs": []
    },
    {
      "cell_type": "code",
      "source": [
        "def evaluate_model(model, X_test, y_test):\n",
        "\n",
        "    y_pred = model.predict(X_test)\n",
        "    y_pred = y_pred.flatten()  # Flatten predictions to match y_test shape\n",
        "\n",
        "    mse = mean_squared_error(y_test, y_pred)\n",
        "\n",
        "    # Calculate accuracy within a margin of error\n",
        "    threshold = 0.5\n",
        "    accuracy = np.mean(np.abs(y_test - y_pred) < threshold)\n",
        "\n",
        "    print(f\"Mean Squared Error: {mse:.4f}\")\n",
        "    print(f\"Accuracy (within {threshold} threshold): {accuracy:.4f}\")\n",
        "\n",
        "    return mse, accuracy"
      ],
      "metadata": {
        "id": "NJw9lZXoEr9Y"
      },
      "execution_count": 157,
      "outputs": []
    },
    {
      "cell_type": "code",
      "source": [
        "latest_model = NN_model"
      ],
      "metadata": {
        "id": "ww1NhOtkPX_6"
      },
      "execution_count": 158,
      "outputs": []
    },
    {
      "cell_type": "code",
      "source": [
        "mse, accuracy = evaluate_model(latest_model, test_X, test_y)"
      ],
      "metadata": {
        "colab": {
          "base_uri": "https://localhost:8080/"
        },
        "id": "AJOJpaXcHdbO",
        "outputId": "dc9c3b77-8b98-4891-9e8e-3ab64f5ad1d5"
      },
      "execution_count": 159,
      "outputs": [
        {
          "output_type": "stream",
          "name": "stdout",
          "text": [
            "\u001b[1m77/77\u001b[0m \u001b[32m━━━━━━━━━━━━━━━━━━━━\u001b[0m\u001b[37m\u001b[0m \u001b[1m0s\u001b[0m 6ms/step\n",
            "Mean Squared Error: 0.0968\n",
            "Accuracy (within 0.5 threshold): 0.8890\n"
          ]
        }
      ]
    },
    {
      "cell_type": "code",
      "source": [
        "#2 Mse and Mae based"
      ],
      "metadata": {
        "id": "lUnK9jYIE3_C"
      },
      "execution_count": null,
      "outputs": []
    },
    {
      "cell_type": "code",
      "source": [
        "def evaluate_model_new(model, X_test, y_test):\n",
        "    y_pred = model.predict(X_test)\n",
        "    y_pred = y_pred.flatten()  # Flatten predictions to match y_test shape\n",
        "\n",
        "    mse = mean_squared_error(y_test, y_pred)\n",
        "\n",
        "    mae = mean_absolute_error(y_test, y_pred)\n",
        "\n",
        "    print(f\"Mean Squared Error (MSE): {mse:.4f}\")\n",
        "    print(f\"Mean Absolute Error (MAE): {mae:.4f}\")\n",
        "\n",
        "    return mse, mae"
      ],
      "metadata": {
        "id": "lnP35TyVHE2P"
      },
      "execution_count": 160,
      "outputs": []
    },
    {
      "cell_type": "code",
      "source": [
        "mse, mae = evaluate_model_new(latest_model, test_X, test_y)"
      ],
      "metadata": {
        "colab": {
          "base_uri": "https://localhost:8080/"
        },
        "id": "g54pkSTiHNcH",
        "outputId": "a4527847-5d71-480e-cfb4-b118d598b5e1"
      },
      "execution_count": 161,
      "outputs": [
        {
          "output_type": "stream",
          "name": "stdout",
          "text": [
            "\u001b[1m77/77\u001b[0m \u001b[32m━━━━━━━━━━━━━━━━━━━━\u001b[0m\u001b[37m\u001b[0m \u001b[1m0s\u001b[0m 2ms/step\n",
            "Mean Squared Error (MSE): 0.0968\n",
            "Mean Absolute Error (MAE): 0.2565\n"
          ]
        }
      ]
    },
    {
      "cell_type": "markdown",
      "source": [
        "# Trying out scikit learn models"
      ],
      "metadata": {
        "id": "5lu3dIr_HrN_"
      }
    },
    {
      "cell_type": "markdown",
      "source": [
        "### SGDRegressor"
      ],
      "metadata": {
        "id": "BihgTqS_H83U"
      }
    },
    {
      "cell_type": "code",
      "execution_count": 162,
      "metadata": {
        "id": "dp1jKQF5DmzU"
      },
      "outputs": [],
      "source": [
        "sgd_regressor = SGDRegressor(\n",
        "    max_iter=1000000, alpha=0.1, learning_rate='invscaling', random_state=42)"
      ]
    },
    {
      "cell_type": "code",
      "execution_count": 170,
      "metadata": {
        "id": "kns6PwIBDzhZ",
        "colab": {
          "base_uri": "https://localhost:8080/"
        },
        "outputId": "012f3ed6-00c3-43be-aa69-6c98006ea3a4"
      },
      "outputs": [
        {
          "output_type": "execute_result",
          "data": {
            "text/plain": [
              "0.1304753197479651"
            ]
          },
          "metadata": {},
          "execution_count": 170
        }
      ],
      "source": [
        "sgd_regressor.fit(X_train_scaled, y_train)\n",
        "y_pred = sgd_regressor.predict(X_test_scaled)\n",
        "mse = mean_squared_error(y_test,y_pred)\n",
        "mse"
      ]
    },
    {
      "cell_type": "code",
      "source": [
        "import pickle\n",
        "\n",
        "# saving the trained model for use in Frontend\n",
        "with open('sgd_regressor.pkl','wb') as f:\n",
        "    pickle.dump(sgd_regressor,f)"
      ],
      "metadata": {
        "id": "amadpwtfW82O"
      },
      "execution_count": 199,
      "outputs": []
    },
    {
      "cell_type": "markdown",
      "source": [
        "### xgboost"
      ],
      "metadata": {
        "id": "cwRIo18eH68w"
      }
    },
    {
      "cell_type": "code",
      "source": [
        "import xgboost as xgb\n",
        "xgb_model = xgb.XGBRegressor(objective=\"reg:squarederror\", random_state=42)\n",
        "xgb_model.fit(X_train_scaled, y_train)\n",
        "y_pred = xgb_model.predict(X_test_scaled)\n",
        "\n",
        "mse=mean_squared_error(y_test, y_pred)\n",
        "mse"
      ],
      "metadata": {
        "colab": {
          "base_uri": "https://localhost:8080/"
        },
        "id": "tLRWkEwdH6Np",
        "outputId": "3abc0bbf-f657-4add-93ad-1230fd67f936"
      },
      "execution_count": 165,
      "outputs": [
        {
          "output_type": "execute_result",
          "data": {
            "text/plain": [
              "0.12565024982060222"
            ]
          },
          "metadata": {},
          "execution_count": 165
        }
      ]
    },
    {
      "cell_type": "markdown",
      "source": [
        "### Testing Other models"
      ],
      "metadata": {
        "id": "KyEAVnRuIEnO"
      }
    },
    {
      "cell_type": "code",
      "source": [
        "def evaluate_regressor(model, X_test, y_test):\n",
        "    y_pred = model.predict(X_test)\n",
        "\n",
        "    mse = mean_squared_error(y_test, y_pred)\n",
        "    mae = mean_absolute_error(y_test, y_pred)\n",
        "\n",
        "    print(f\"Model: {type(model).__name__}\")\n",
        "    print(f\"Mean Squared Error (MSE): {mse:.4f}\")\n",
        "    print(f\"Mean Absolute Error (MAE): {mae:.4f}\")\n",
        "\n",
        "\n",
        "    return mse, mae"
      ],
      "metadata": {
        "id": "uuKOKnl3IGP_"
      },
      "execution_count": 166,
      "outputs": []
    },
    {
      "cell_type": "code",
      "source": [
        "test_X_scaled = scaler.transform(test_X)"
      ],
      "metadata": {
        "id": "zTpY_Hi3L7V0"
      },
      "execution_count": 167,
      "outputs": []
    },
    {
      "cell_type": "code",
      "source": [
        "# loading the regressor model\n",
        "with open('sgd_regressor.pkl', 'rb') as f:\n",
        "    new_regressor = pickle.load(f)"
      ],
      "metadata": {
        "id": "vD4ms7tmXP0p"
      },
      "execution_count": 174,
      "outputs": []
    },
    {
      "cell_type": "code",
      "source": [
        "evaluate_regressor(sgd_regressor, test_X_scaled, test_y)\n",
        "evaluate_regressor(new_regressor, test_X_scaled, test_y)\n",
        "evaluate_regressor(xgb_model, test_X_scaled, test_y)"
      ],
      "metadata": {
        "colab": {
          "base_uri": "https://localhost:8080/"
        },
        "id": "yrMHHJTeLJEc",
        "outputId": "1dc4a655-9c65-4a27-bdb0-aeb9656e614f"
      },
      "execution_count": 175,
      "outputs": [
        {
          "output_type": "stream",
          "name": "stdout",
          "text": [
            "Model: SGDRegressor\n",
            "Mean Squared Error (MSE): 0.0941\n",
            "Mean Absolute Error (MAE): 0.2381\n",
            "Model: SGDRegressor\n",
            "Mean Squared Error (MSE): 0.0941\n",
            "Mean Absolute Error (MAE): 0.2381\n",
            "Model: XGBRegressor\n",
            "Mean Squared Error (MSE): 0.1243\n",
            "Mean Absolute Error (MAE): 0.2819\n"
          ]
        },
        {
          "output_type": "execute_result",
          "data": {
            "text/plain": [
              "(0.12425339438859988, 0.2818932027549688)"
            ]
          },
          "metadata": {},
          "execution_count": 175
        }
      ]
    },
    {
      "cell_type": "markdown",
      "source": [
        "# For new single exmples testing"
      ],
      "metadata": {
        "id": "AgVk-_J0YI2B"
      }
    },
    {
      "cell_type": "code",
      "source": [
        "def get_score_regressor(transformer_model,tokenizer,text):\n",
        "    X_sample = get_embeddings([text], tokenizer, transformer_model)\n",
        "\n",
        "    sample_input = X_sample  # or any other input vector of shape (384,)\n",
        "\n",
        "    with open('new_scaler.pkl','rb') as f:\n",
        "      print(\"Loading scaler\")\n",
        "      sc = pickle.load(f)\n",
        "      print(\"Scaler loaded\")\n",
        "    sample_input=sc.transform(sample_input)\n",
        "\n",
        "    with open('sgd_regressor.pkl', 'rb') as f:\n",
        "      new_regressor = pickle.load(f)\n",
        "    predicted_value = new_regressor.predict(sample_input)\n",
        "    return predicted_value[0]"
      ],
      "metadata": {
        "id": "omcsSzyqPnHd"
      },
      "execution_count": 203,
      "outputs": []
    },
    {
      "cell_type": "code",
      "source": [
        "get_score_regressor(model,tokenizer,\"Best ways to make money they don't want you to know\")"
      ],
      "metadata": {
        "colab": {
          "base_uri": "https://localhost:8080/"
        },
        "id": "FPQUlhYFYcSo",
        "outputId": "67f35f0d-6cff-4248-df5e-f6d773cc954b"
      },
      "execution_count": 207,
      "outputs": [
        {
          "output_type": "stream",
          "name": "stderr",
          "text": [
            "Generating embeddings: 100%|██████████| 1/1 [00:00<00:00, 45.26it/s]"
          ]
        },
        {
          "output_type": "stream",
          "name": "stdout",
          "text": [
            "Loading scaler\n",
            "Scaler loaded\n"
          ]
        },
        {
          "output_type": "stream",
          "name": "stderr",
          "text": [
            "\n"
          ]
        },
        {
          "output_type": "execute_result",
          "data": {
            "text/plain": [
              "0.9385765866010924"
            ]
          },
          "metadata": {},
          "execution_count": 207
        }
      ]
    },
    {
      "cell_type": "code",
      "source": [],
      "metadata": {
        "id": "gUTWRSicfCZN"
      },
      "execution_count": null,
      "outputs": []
    }
  ]
}